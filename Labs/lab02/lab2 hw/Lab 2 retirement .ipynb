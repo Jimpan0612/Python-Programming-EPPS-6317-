{
 "cells": [
  {
   "cell_type": "markdown",
   "id": "b93488df",
   "metadata": {},
   "source": [
    "# Jupyter tutorial  \n",
    "\n",
    "Jim, GISC 6317  \n",
    "\n",
    "Last updated: 9/05/2023  \n",
    "\n",
    "Purpose: Jupyter tutorial that includes how to create for loop, and make an example of create a simple application that calculates retirement funds."
   ]
  },
  {
   "cell_type": "markdown",
   "id": "20fb9dd5",
   "metadata": {},
   "source": [
    "# Assign initial values"
   ]
  },
  {
   "cell_type": "code",
   "execution_count": 38,
   "id": "87898527",
   "metadata": {},
   "outputs": [
    {
     "name": "stdout",
     "output_type": "stream",
     "text": [
      "What is your starting balance? 0\n",
      "Your monthly deposit amount? 500\n",
      "What is your interest rate? 5\n",
      "Over how many years 30\n"
     ]
    }
   ],
   "source": [
    "# Prompt for starting balance and convert to floating point number\n",
    "initial_balance = float(input(\"What is your starting balance? \"))\n",
    "\n",
    "# Prompt for monthly daposit and also convert to floating point\n",
    "deposit = float(input(\"Your monthly deposit amount? \"))\n",
    "\n",
    "# Prompt for interest rate, convert to float, and convert to monthly percent\n",
    "rate = float(input(\"What is your interest rate? \"))/ 100 / 12\n",
    " \n",
    "# Prompt for years until retirement and convert to intger\n",
    "years = int(input(\"Over how many years \"))"
   ]
  },
  {
   "cell_type": "markdown",
   "id": "560daccd",
   "metadata": {},
   "source": [
    "# Calculate retirement funds by years table"
   ]
  },
  {
   "cell_type": "code",
   "execution_count": 39,
   "id": "10721876",
   "metadata": {},
   "outputs": [
    {
     "name": "stdout",
     "output_type": "stream",
     "text": [
      "Fund by year (5.0% annual intrest rate)\n",
      "Year\tFund\n",
      "0\t$6,165.01\n",
      "1\t$12,645.43\n",
      "2\t$19,457.40\n",
      "3\t$26,617.89\n",
      "4\t$34,144.72\n",
      "5\t$42,056.64\n",
      "6\t$50,373.34\n",
      "7\t$59,115.55\n",
      "8\t$68,305.02\n",
      "9\t$77,964.64\n",
      "10\t$88,118.47\n",
      "11\t$98,791.79\n",
      "12\t$110,011.17\n",
      "13\t$121,804.56\n",
      "14\t$134,201.32\n",
      "15\t$147,232.33\n",
      "16\t$160,930.02\n",
      "17\t$175,328.51\n",
      "18\t$190,463.66\n",
      "19\t$206,373.15\n",
      "20\t$223,096.61\n",
      "21\t$240,675.66\n",
      "22\t$259,154.09\n",
      "23\t$278,577.92\n",
      "24\t$298,995.50\n",
      "25\t$320,457.69\n",
      "26\t$343,017.92\n",
      "27\t$366,732.37\n",
      "28\t$391,660.11\n",
      "29\t$417,863.19\n",
      "Retirement Fund: $417,863.19\n"
     ]
    }
   ],
   "source": [
    "# Reset balance to initial balance\n",
    "balance = initial_balance\n",
    "\n",
    "# Print title\n",
    "print(\"Fund by year ({}% annual intrest rate)\".format(rate * 100 * 12))\n",
    "\n",
    "# Print column headers\n",
    "print(\"Year\\tFund\")\n",
    "\n",
    "# Loop over the years until retirement\n",
    "for y in range(0, years):\n",
    "    \n",
    "    # For each year, Loop over each of the 12 months\n",
    "    for m in range(0, 12):\n",
    "        \n",
    "        # Within each month, calculate monthly compounded interest\n",
    "        # and add to total \n",
    "        balance = (balance + deposit) * (1 + rate)\n",
    "        \n",
    "    print(\"{}\\t${:,.2f}\".format(y, balance))\n",
    "    # print(str(y) + \"\\t\" + str balance)\n",
    "        \n",
    "        \n",
    "# After both Loops are done, print final retirement balance\n",
    "print(\"Retirement Fund: ${:,.2f}\".format(balance))\n",
    "#print(\"Retirement Fund: \" + str(balance)) "
   ]
  },
  {
   "cell_type": "markdown",
   "id": "25ae38cf",
   "metadata": {},
   "source": [
    "# Calculate retirement funds by rates table"
   ]
  },
  {
   "cell_type": "code",
   "execution_count": 43,
   "id": "e6fd0ec5",
   "metadata": {},
   "outputs": [],
   "source": [
    "\n",
    "\n",
    "# Loop until the balance becomes greater than or equal to 1,000,000\n",
    "while balance < 1000000:\n",
    "    \n",
    "    # For each year, loop over each of the 12 months\n",
    "    for m in range(0, 12):\n",
    "        \n",
    "        # Within each month, calculate monthly compounded interest and add to total\n",
    "        balance = (balance + deposit) * (1 + rate)\n",
    "    years += 1\n",
    "\n",
    "        "
   ]
  },
  {
   "cell_type": "code",
   "execution_count": 44,
   "id": "7c9c4757",
   "metadata": {},
   "outputs": [
    {
     "name": "stdout",
     "output_type": "stream",
     "text": [
      "Calculate length until you to become a millionaire? (Y/N): y\n",
      "You will become a millionaire in 45 years.\n"
     ]
    }
   ],
   "source": [
    "millionaire_table = input(\"Calculate length until you to become a millionaire? (Y/N): \")\n",
    "\n",
    "if millionaire_table.lower() == \"y\":\n",
    "        print(\"You will become a millionaire in {} years.\".format(years))\n"
   ]
  },
  {
   "cell_type": "code",
   "execution_count": 47,
   "id": "a20c575d",
   "metadata": {},
   "outputs": [
    {
     "name": "stdout",
     "output_type": "stream",
     "text": [
      "Display fund by interest rate table? (Y/N): y\n",
      "Fund by interest rate (45 years)\n",
      "Rate\tFund\n",
      "0%\t$270,000.00\n",
      "1%\t$341,095.00\n",
      "2%\t$438,057.22\n",
      "3%\t$571,611.95\n",
      "4%\t$757,250.66\n",
      "5%\t$1,017,440.39\n",
      "6%\t$1,384,886.29\n",
      "7%\t$1,907,359.07\n",
      "8%\t$2,654,851.75\n",
      "9%\t$3,730,207.53\n",
      "10%\t$5,284,927.95\n",
      "11%\t$7,542,720.20\n",
      "12%\t$10,834,619.99\n",
      "13%\t$15,651,444.85\n",
      "14%\t$22,722,218.12\n",
      "15%\t$33,131,544.71\n",
      "16%\t$48,495,453.63\n",
      "17%\t$71,225,062.67\n",
      "18%\t$104,922,246.72\n",
      "19%\t$154,973,838.24\n",
      "20%\t$229,444,584.26\n",
      "21%\t$340,419,909.13\n",
      "22%\t$506,026,217.06\n",
      "23%\t$753,472,203.02\n",
      "24%\t$1,123,629,353.12\n",
      "25%\t$1,677,933,619.35\n",
      "26%\t$2,508,788,660.06\n",
      "27%\t$3,755,252,828.92\n",
      "28%\t$5,626,701,242.75\n",
      "29%\t$8,438,527,921.97\n",
      "30%\t$12,666,028,756.73\n",
      "31%\t$19,025,743,061.87\n",
      "32%\t$28,598,272,703.91\n",
      "33%\t$43,013,764,043.46\n",
      "34%\t$64,732,070,138.43\n",
      "35%\t$97,465,984,719.91\n",
      "36%\t$146,820,691,210.51\n",
      "37%\t$221,259,986,264.42\n",
      "38%\t$333,566,397,710.05\n",
      "39%\t$503,047,815,413.47\n",
      "40%\t$758,872,493,060.89\n",
      "41%\t$1,145,109,630,032.45\n",
      "42%\t$1,728,348,011,257.76\n",
      "43%\t$2,609,211,450,567.42\n",
      "44%\t$3,939,764,227,267.36\n"
     ]
    }
   ],
   "source": [
    "interestrate_table = input(\"Display fund by interest rate table? (Y/N): \")\n",
    "\n",
    "\n",
    "# Print title\n",
    "print(\"Fund by interest rate ({} years)\".format(years))\n",
    "\n",
    "if interestrate_table.lower() == \"y\":\n",
    "    \n",
    "    # Print column headers\n",
    "    print(\"Rate\\tFund\")\n",
    "    \n",
    "    \n",
    "    for interest_rate in range(0, years):\n",
    "        \n",
    "        # Reset rate and balance to initial\n",
    "        rate = interest_rate / 100 / 12\n",
    "        balance = initial_balance\n",
    "        \n",
    "        for y in range(0, years):\n",
    "            \n",
    "            # For each year, Loop over each of the 12 months\n",
    "            for m in range(0, 12):\n",
    "                balance = (balance + deposit) * (1 + rate)\n",
    "        print(\"{}%\\t${:,.2f}\".format(interest_rate, balance))"
   ]
  },
  {
   "cell_type": "code",
   "execution_count": null,
   "id": "2f828684",
   "metadata": {},
   "outputs": [],
   "source": []
  }
 ],
 "metadata": {
  "kernelspec": {
   "display_name": "Python 3 (ipykernel)",
   "language": "python",
   "name": "python3"
  },
  "language_info": {
   "codemirror_mode": {
    "name": "ipython",
    "version": 3
   },
   "file_extension": ".py",
   "mimetype": "text/x-python",
   "name": "python",
   "nbconvert_exporter": "python",
   "pygments_lexer": "ipython3",
   "version": "3.11.7"
  }
 },
 "nbformat": 4,
 "nbformat_minor": 5
}
