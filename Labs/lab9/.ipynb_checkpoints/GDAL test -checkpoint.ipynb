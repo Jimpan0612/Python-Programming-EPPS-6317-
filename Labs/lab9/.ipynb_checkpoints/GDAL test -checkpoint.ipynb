{
 "cells": [
  {
   "cell_type": "code",
   "execution_count": 1,
   "id": "b2b3d541",
   "metadata": {},
   "outputs": [],
   "source": [
    "from osgeo import gdal\n"
   ]
  },
  {
   "cell_type": "code",
   "execution_count": 2,
   "id": "31268479",
   "metadata": {},
   "outputs": [],
   "source": [
    "import osgeo"
   ]
  },
  {
   "cell_type": "code",
   "execution_count": 3,
   "id": "fbe22277-ac2e-4a09-a588-d1b0b6a96159",
   "metadata": {},
   "outputs": [],
   "source": [
    "import fiona\n",
    "import geopandas\n",
    "import rasterio"
   ]
  },
  {
   "cell_type": "code",
   "execution_count": 4,
   "id": "a4e51f52-5012-47fe-9ae3-4a9c6bebeec2",
   "metadata": {},
   "outputs": [
    {
     "data": {
      "text/plain": [
       "(3, 7, 3)"
      ]
     },
     "execution_count": 4,
     "metadata": {},
     "output_type": "execute_result"
    }
   ],
   "source": [
    "osgeo.gdal_version"
   ]
  },
  {
   "cell_type": "code",
   "execution_count": null,
   "id": "7979438f-896a-4145-b109-4a78907bf80d",
   "metadata": {},
   "outputs": [],
   "source": []
  }
 ],
 "metadata": {
  "kernelspec": {
   "display_name": "Python 3 (ipykernel)",
   "language": "python",
   "name": "python3"
  },
  "language_info": {
   "codemirror_mode": {
    "name": "ipython",
    "version": 3
   },
   "file_extension": ".py",
   "mimetype": "text/x-python",
   "name": "python",
   "nbconvert_exporter": "python",
   "pygments_lexer": "ipython3",
   "version": "3.12.0"
  }
 },
 "nbformat": 4,
 "nbformat_minor": 5
}
