{
 "cells": [
  {
   "cell_type": "markdown",
   "metadata": {},
   "source": [
    "# ArcGIS API for Python\n"
   ]
  },
  {
   "cell_type": "markdown",
   "metadata": {},
   "source": [
    "#### Run this cell to connect to your GIS and get started:"
   ]
  },
  {
   "cell_type": "code",
   "execution_count": 1,
   "metadata": {},
   "outputs": [
    {
     "name": "stderr",
     "output_type": "stream",
     "text": [
      "/opt/conda/lib/python3.6/site-packages/arcgis/gis/__init__.py:407: UserWarning: You are logged on as bjc062000@utdallas.edu_UTDEPPS with an administrator role, proceed with caution.\n",
      "  self.users.me.username)\n"
     ]
    }
   ],
   "source": [
    "from arcgis.gis import GIS\n",
    "# Since you are already logged in to ArcGIS Online, doing the following connects the Python API to AGOL using your AGOL credentials\n",
    "gis = GIS(\"home\")\n",
    "# To connect from Anaconda, you would need to install the arcgis module and then do:\n",
    "# gis = GIS(\"https://arcgis.com\", username=\"yourusername\", password=\"yourpassword\")\n",
    "# To connect from within ArcGIS Pro:\n",
    "# gis = GIS(\"pro\")"
   ]
  },
  {
   "cell_type": "markdown",
   "metadata": {},
   "source": [
    "## arcgis.mapping module\n",
    "The arcgis.mapping module contains classes and functions to represent and interact with web maps, scenes, and certain layer types such as map image and vector tiles. In this page we will observe how to visualize maps, scenes and layers using the map widget in Jupyter notebook environment."
   ]
  },
  {
   "cell_type": "markdown",
   "metadata": {},
   "source": [
    "### Creating a Map"
   ]
  },
  {
   "cell_type": "code",
   "execution_count": 2,
   "metadata": {
    "scrolled": true
   },
   "outputs": [
    {
     "data": {
      "application/vnd.jupyter.widget-view+json": {
       "model_id": "d1254e72399d4be1b5e8a545726b58b0",
       "version_major": 2,
       "version_minor": 0
      },
      "text/plain": [
       "MapView(layout=Layout(height='400px', width='100%'))"
      ]
     },
     "metadata": {},
     "output_type": "display_data"
    },
    {
     "data": {
      "text/html": [
       "<div class=\"map-static-img-preview-0d9130bb-a04d-4fed-b456-b246da891e63\"><img src=\"\"></img></div>"
      ],
      "text/plain": [
       "<IPython.core.display.HTML object>"
      ]
     },
     "metadata": {},
     "output_type": "display_data"
    }
   ],
   "source": [
    "m = gis.map(\"Richardson, TX\")\n",
    "m"
   ]
  },
  {
   "cell_type": "markdown",
   "metadata": {},
   "source": [
    "### WebMap Properties"
   ]
  },
  {
   "cell_type": "code",
   "execution_count": 3,
   "metadata": {},
   "outputs": [
    {
     "data": {
      "text/plain": [
       "-1.0"
      ]
     },
     "execution_count": 3,
     "metadata": {},
     "output_type": "execute_result"
    }
   ],
   "source": [
    "m.zoom"
   ]
  },
  {
   "cell_type": "code",
   "execution_count": 4,
   "metadata": {},
   "outputs": [],
   "source": [
    "# Set zoom level to 18\n",
    "m.zoom = 18"
   ]
  },
  {
   "cell_type": "markdown",
   "metadata": {},
   "source": [
    "### Map Center"
   ]
  },
  {
   "cell_type": "code",
   "execution_count": 5,
   "metadata": {},
   "outputs": [
    {
     "data": {
      "text/plain": [
       "{'spatialReference': {'latestWkid': 3857, 'wkid': 102100},\n",
       " 'x': -10768264.963321004,\n",
       " 'y': 3890096.716442568}"
      ]
     },
     "execution_count": 5,
     "metadata": {},
     "output_type": "execute_result"
    }
   ],
   "source": [
    "m.center"
   ]
  },
  {
   "cell_type": "code",
   "execution_count": 6,
   "metadata": {},
   "outputs": [],
   "source": [
    "# Center the map at 32.9885,-96.7479\n",
    "m.center = (32.9885,-96.7479)"
   ]
  },
  {
   "cell_type": "markdown",
   "metadata": {},
   "source": [
    "### Basemaps"
   ]
  },
  {
   "cell_type": "code",
   "execution_count": 7,
   "metadata": {},
   "outputs": [
    {
     "data": {
      "text/plain": [
       "['dark-gray',\n",
       " 'dark-gray-vector',\n",
       " 'gray',\n",
       " 'gray-vector',\n",
       " 'hybrid',\n",
       " 'national-geographic',\n",
       " 'oceans',\n",
       " 'osm',\n",
       " 'satellite',\n",
       " 'streets',\n",
       " 'streets-navigation-vector',\n",
       " 'streets-night-vector',\n",
       " 'streets-relief-vector',\n",
       " 'streets-vector',\n",
       " 'terrain',\n",
       " 'topo',\n",
       " 'topo-vector']"
      ]
     },
     "execution_count": 7,
     "metadata": {},
     "output_type": "execute_result"
    }
   ],
   "source": [
    "m.basemaps"
   ]
  },
  {
   "cell_type": "code",
   "execution_count": 8,
   "metadata": {},
   "outputs": [
    {
     "name": "stdout",
     "output_type": "stream",
     "text": [
      "dark-gray\n",
      "dark-gray-vector\n",
      "gray\n",
      "gray-vector\n",
      "hybrid\n",
      "national-geographic\n",
      "oceans\n",
      "osm\n",
      "satellite\n",
      "streets\n",
      "streets-navigation-vector\n",
      "streets-night-vector\n",
      "streets-relief-vector\n",
      "streets-vector\n",
      "terrain\n",
      "topo\n",
      "topo-vector\n"
     ]
    }
   ],
   "source": [
    "import time\n",
    "# Loop through basemaps\n",
    "for basemap in m.basemaps:\n",
    "    # Print out each one\n",
    "    print(basemap)\n",
    "    # Set current map to each one\n",
    "#     m.basemap = basemap\n",
    "#     # Sleep for 3 seconds\n",
    "#     time.sleep(3)"
   ]
  },
  {
   "cell_type": "markdown",
   "metadata": {},
   "source": [
    "### Adding Content"
   ]
  },
  {
   "cell_type": "code",
   "execution_count": 9,
   "metadata": {
    "scrolled": true
   },
   "outputs": [
    {
     "data": {
      "application/vnd.jupyter.widget-view+json": {
       "model_id": "019bd45bf23244c59470f2f52f298ddd",
       "version_major": 2,
       "version_minor": 0
      },
      "text/plain": [
       "MapView(layout=Layout(height='400px', width='100%'))"
      ]
     },
     "metadata": {},
     "output_type": "display_data"
    },
    {
     "data": {
      "text/html": [
       "<div class=\"map-static-img-preview-f3406bef-a0c3-4c4b-819e-6be5f07eb6b0\"><img src=\"\"></img></div>"
      ],
      "text/plain": [
       "<IPython.core.display.HTML object>"
      ]
     },
     "metadata": {},
     "output_type": "display_data"
    }
   ],
   "source": [
    "m2 = gis.map('University of Texas at Dallas, Richardson, TX', zoomlevel=16)\n",
    "m2"
   ]
  },
  {
   "cell_type": "code",
   "execution_count": 10,
   "metadata": {},
   "outputs": [
    {
     "data": {
      "text/plain": [
       "[<Item title:\"UTD Campus Survey\" type:Form owner:GISC4380_int150030>,\n",
       " <Item title:\"UTDgh\" type:Feature Layer Collection owner:GISC2305_gvh150130>,\n",
       " <Item title:\"WestCampus Classrooms\" type:Web Map owner:bxd160430@utdallas.edu_UTDEPPS>,\n",
       " <Item title:\"Suspicious Activities by Lauren\" type:Feature Layer Collection owner:lkm150230@utdallas.edu_UTDEPPS>,\n",
       " <Item title:\"UTD Campus Buildings\" type:Feature Layer Collection owner:bxd160430@utdallas.edu_UTDEPPS>,\n",
       " <Item title:\"Single Occupancy Restrooms Draft\" type:Feature Layer Collection owner:pmh180002@utdallas.edu_UTDEPPS>,\n",
       " <Item title:\"Buildings\" type:Feature Layer Collection owner:bxd160430@utdallas.edu_UTDEPPS>,\n",
       " <Item title:\"brady_Lab7_Underground_UTD\" type:Feature Layer Collection owner:jab180020@utdallas.edu_UTDEPPS>,\n",
       " <Item title:\"UTD Building Entrance Data Collection\" type:Web Map owner:GISC2305_int150030>,\n",
       " <Item title:\"Brady_Lab7_UTD_Buildings\" type:Feature Layer Collection owner:jab180020@utdallas.edu_UTDEPPS>]"
      ]
     },
     "execution_count": 10,
     "metadata": {},
     "output_type": "execute_result"
    }
   ],
   "source": [
    "# Search Feature Layer items titled like UTD Buildings and restrict it not search outside organizations\n",
    "flayer_search_result = gis.content.search(query=\"UTD Buildings\", outside_org=False)\n",
    "flayer_search_result"
   ]
  },
  {
   "cell_type": "code",
   "execution_count": 11,
   "metadata": {},
   "outputs": [],
   "source": [
    "from arcgis.features import FeatureLayer"
   ]
  },
  {
   "cell_type": "code",
   "execution_count": 12,
   "metadata": {},
   "outputs": [
    {
     "data": {
      "text/plain": [
       "<FeatureLayer url:\"https://services2.arcgis.com/VNo0ht0YPXJoI4oE/arcgis/rest/services/UTD_Campus_Buildings/FeatureServer/0\">"
      ]
     },
     "execution_count": 12,
     "metadata": {},
     "output_type": "execute_result"
    }
   ],
   "source": [
    "# Get as a Feature Layer so we can query\n",
    "flayer = flayer_search_result[4].layers[0]\n",
    "flayer"
   ]
  },
  {
   "cell_type": "code",
   "execution_count": 13,
   "metadata": {},
   "outputs": [
    {
     "name": "stdout",
     "output_type": "stream",
     "text": [
      "OBJECTID\n",
      "buildingid\n",
      "name\n",
      "use_\n",
      "facilityno\n",
      "builtdate\n",
      "archivedate\n",
      "floorcount\n",
      "description\n",
      "lastupdate\n",
      "lasteditor\n",
      "created_user\n",
      "created_date\n",
      "last_edited_user\n",
      "last_edited_date\n",
      "ORIG_FID\n"
     ]
    }
   ],
   "source": [
    "# Loop through feature layer fields (properties.fields) and print\n",
    "for f in flayer.properties.fields:\n",
    "    print(f.name)"
   ]
  },
  {
   "cell_type": "code",
   "execution_count": 14,
   "metadata": {},
   "outputs": [
    {
     "data": {
      "text/plain": [
       "<FeatureSet> 1 features"
      ]
     },
     "execution_count": 14,
     "metadata": {},
     "output_type": "execute_result"
    }
   ],
   "source": [
    "# Just get Green hall (buildingid='GR')\n",
    "gr_layer = flayer.query(\"buildingid='GR'\")\n",
    "gr_layer"
   ]
  },
  {
   "cell_type": "code",
   "execution_count": 15,
   "metadata": {},
   "outputs": [],
   "source": [
    "# Add to above map\n",
    "m2.add_layer(gr_layer)"
   ]
  },
  {
   "cell_type": "code",
   "execution_count": 16,
   "metadata": {},
   "outputs": [
    {
     "data": {
      "text/html": [
       "<div class=\"item_container\" style=\"height: auto; overflow: hidden; border: 1px solid #cfcfcf; border-radius: 2px; background: #f6fafa; line-height: 1.21429em; padding: 10px;\">\n",
       "                    <div class=\"item_left\" style=\"width: 210px; float: left;\">\n",
       "                       <a href='https://www.arcgis.com/home/item.html?id=76c1e20e31bd4264828c02a8d2690cb0' target='_blank'>\n",
       "                        <img src='data:image/png;base64,iVBORw0KGgoAAAANSUhEUgAAAMgAAACFCAYAAAAenrcsAACAAElEQVR4Xrzd+bdd1X0geP1Qq3v1WtXVq1dVVjqVVNxJPMTGNh6YZwkBmudZQhISmkBCgJDAzGBGA2YwGIxtEJ4dO44T20kcx4kzJ5W5OoPV/8zt/fnu+71v3/3OfRKkOj9813v33HPP2cN3nvaiT7z1/44SDjz5u6M7X/u7yedZcMerfzu68f5vxP/3vPnTyfW73/zX0eY7P3/Oz4nfvPGvox2f+Oq860Ow7thn4x35eef9vzb5fM/pM6Od931ztO/R3xztuu/r836bYOy77qtjB0t3PTDa98nvj5bd9MRoxYFnRqsOPjfa2Yxn9wPfGp343D+MTn7hn0Z3Fdhy4otx/bbP/EWZ6xdGy/c/OVp16LnRtnu+Mlq276nR1rveGO289+ujTXd8YfIMa3XkuT8c3fTId0c77vnyaOMdn598t+ehX4+/J7/w/4xWH3p2tOHYy6Pl+54YXb/74TKu3xrd/Phvj25+4gejbadOjy5ZeWS07e4vj67ccEeM05huf+W/jw4/8+NYh+Of+cvR3vKOvY9+b3To6R+NDn3qx7G2R1/8i3jH0Rf+ZLTvse+Ptp58c7Tn4d8Y3fjgd+atjzH214A12P3gt2KePh948nemvvfe/jdg3ye/N+/anoe+Pdpf5pbfn3rjX+bdA8zrprKf+XnrqS/HPJfuejDWc9XBZ2LPt516a3KPz3sf/vWyD18se/B62cuvTMDebL/7SxNYWfYbnnrm9nu+WtbkO6O1R14Yvf/i1aPlNz8zWn7TY6NF7YAWQuxjL/15LLbBbD15erTx+GuxSNff+FAgp3vufPXvykL9Zjxnw/HPxb0Wtn9WC+dCIEee/cNAxiPP/sHkmnfufrAi19EX/jSecaogjM8QCnL1z8nfrb/ts5PPfmehLDjiQeDugXgWbt3RlwOJIYcFX3Pk+Zj3XZ//H/H7zSfeGB359J+M31uRxhou2X5f/I8YbYznHvrU78e1JApw9eaTsUYQM4l9W9m8LeW5B5/63fhsjS5bc3T0oau2jRZvvaes7WdHV2+5u8zj1am5ee+6o6+M9hci2HX/N2MfXA/GUdYjkRoBI672twlDBHJ3QeCNx18NJDv09O/FtZ5AEL71639706PD+7C+MLvt5Te7m7UYgj0PfWd0x2f/JvZkdUFef6/Z+olgJuZ67a6HR5evv2O09pYXRpeuPjK6YuNdhfB/fbSn7Ff/rB4S37echKd/X/D1S6NL19xa9vnzoy1lv+DVORNIv3D7H/tepcqTbwT3cw0Sbyicc+muh2KzTxYkWn/slVjMWwv38uwEyOL6/se/f1YC2Vu43bxrZWEhcYytbP6dr/391PetlOhh611vTv6HiIfHiAsRz796S7wPkpECJEjea57eA3C+HWX+m8tiHnzqh4VwXhgt2/vJ0Y0P/Fr5/XeCS0OqVQc/NVpRpAzJkIwEgRz61I/iOTikz7gqyeH7HfdWCXhTeceND3wzuP4lq28thPOVIo2+OVq8/f7RqgNPlfu+GYiSHBKSXr7u+GS97AEmtb68m8TLeWy8/XPz1iRh+8Be2Md+/3sC2f3gt0envvjP837bSoCp+x+aL71mwc6yl9bypke/GxJ18bZPFAZ07+iiVbeOPrZ0z+iytcdG51+zPfZy6c77g4ntfcQezpdeLcD3LYV5rT78fKyrd8DFtbe+FJ9JmXMmED9ouc6BJ3573j0IxCIdf+Wv4zOOiuvfWajzlk//USBSwu2FK7h+e7l3yc4H5z2rhZsemb/Im+74XCC0/xEK8dh+D8mGNgxY8Pwf54DM+fnmQrBUoo23v16Q81ujNYefm/f7ud/+QxAiZPnokl2jy9bfGZJmX9mYFfufmjADkg3BkbwI6saiGkIcRIagqBLGnwR0c1lbRJbvcf3SIkFIsxv2Pj462CCn3+f/B576vdF7L1g+uqqoYDvv/dpoY5GUt3+27kWCNbtk1eEJUZmrcdgrQJW7+fEfBNH6jIOvu+XFIPD8zbpbnh9tGkuUuWsvjNYVxGqvAapi+xlnR2wkoeeTdPluQLq1nxOu2nRign8Y2s/9ykdH1+58IIjl8rVHQ6L+X+86L9b3+Mt/Vbj/n50TgbT4bi1v+8xfTT7fWSTiORPIPYUbobDJvQMEArmOPPeT+B/3oq/7XX9fCzbsqk0nJyrLEBwuuvRNj8whDKReeeBTE4SiPpz43D9O/cZ7h6QIokHs7bXtRa9viR/XPfXF+rmVID3cUtSy8y7bMLquqJnnX721/H0kFnhlkRjGiNNjBjYdB6dS9PNEOP1zwfqjnwn7jpjfXFS71Yc/XZD9b8tz/jK4LwbgWZDnluf/OO5dtvex0ZUbTxR17JaZ+whIJXPeVgiWatl/3wJ7LlXbIwg5COaFefeBIXvDWkw9rzAHKmRK/37+1FgI3j9nxye+NtlvEu1DV20O/KJWvfvjy0YfvHLz6N0fWTxRKzEcqpJngZOfr1pOCz2+p6qbnzGuRXe9/o9BKUM/6GHVgafnHj5AIMQaSeH/fUX3zEVYCBAIewZHtQCMPTrk3Y3xD+iqvq+c97dGawpXu+XTP4mFu6GoNrh2/+x+8QHCSUMbETPIIRxVhSToAVL3z0hgI1y4bH8g2XmXbxjdsOfRQJLNRbrZRITWOhUgZq/7D40RkCCImbrgszG3DApsuL0iE2Ly3FUHPx3S4d0fuXbBfazv/V5ISYSy4746Lkxh9a0vj1XfH4T9QJJ499Hn/yQkyx2v/k1IhVvH+9zCEIGsueWlyf9UxmMv/tnU97vum2ZWcHDPI/PtllYNv6PM7dqiSm0rhvWqwijff8ma0bU77i/S5N4iaY8Fcdz4wLdDhd2PgRSmveOer4zgev+udp38T00m1XYVCWy/FtlEKsepN/55dM22+xZc2HMhkLn/5xt7Q0BcUmUs7rai6iDWYy/+aXCSVn049tKfjbac+nJsIkKhrhwqFH785f8+2nTnG/OeCxDTXa/Pl0yQjyfpmq13j24t3Lf/voWFJAjkYTdctflUEFggUxnjnqKPm1erJgFGbO88mEUg4WkpSJGGr2dZj5zPHUV12lAYC+/L2oLUFy3fP7ph31Px3cbbXyuI+Zl5zwT2efsnvj46ODa2AaaBSfCQsZf63+R4Vh18tiDON4IJcjr0nD73EJ6EDVfGwUER7yh7tn3sAWuBjdozUpy/9Y4C0m4i1R/6jUB+hEqC2IOrN98Ve3Dx6qMxR9JgRxnrvkLUxoo4+/ckgWBi1cP41SmJypYLFeu2l/48JkP1WHbTJyd63ATCo/PTKQJBZahyVxH1ywvVgY8u3j75/8Lr94yuv/HBeQiR4LkIo92oHg4/8/vhYcCFbnt5bnK4F9XD/zxZ3Jf9b0EQ0t3Tm2JBvJeToKph0xwM2AjvwF1bl7GFpx6Yk//XFim2+vALoyvWHYtnMrQ3FL1/TTH6Np/4wkTcJ1jDDbfPuXjBEIHg5i2zAT4br33C/dk6vEsIhb3Bplt202NlzG8VgvlMkQDzGVg6BIY4/QG6fkGm5fuenKgyPbQED0H9ZnvjYr3p0e9Neeha8MzW9kugJvJ8ttesCa7v/7Qzk1n6DD83FgZ60YpDo/d87PrRR4uhjlF4/tKd94W91D6P1KMGe8bWu786Wl3waVmR9oiz4sOvBUH15gAv4aANcudrfxtcIgEyrS2Gmc3Ie2e5Z08UMZZ63Kkv/kuoAe2Chx+7TGLWQvZQPUrfC6RkU3iW93o/LrN018MLemV4fvz1O6KXzt6Oh5558xiRMQieoJ33fjXc2q613pqdhVggJY/NuqMvBRH5nhuSGgIB0+6B0FSfdiyQIdy55RnhCCgbgNtP3VOIY+WhF6YkOe9ZMpodhRha45O/P72I7LLLN94Vqt1tL815rTCjLXe9GUzF3LedqmojOwlBmU8+f91tnxvdOIDIwBxTZcQg7U11Y38xxrul/L2xPAuh9b+NsTbElMDd29sH1pGjwv5ev/uRoiF8vuDfS2HPkQbehSCu2HBnEANj3X1wKmNh7RrZ05Q+J5p3kTjWxlza93Pbby2MmWAYJJD22iyYSSBl0Vt7AFGlUez54SkQU7ln/m+HgIpBnbKxxkbnXHv05SkRzBOGizJg298ibjp8BPJOnQ7C758PqHPrCjK33qEEm21xERHO67109/zeNRwP0ve/5dXzFweDXBtuq25ECJXqCXdvckvA7iCZ/c++IpE23P6FmLs14E5u7ZhKsFUNpGMv2X5P7MHG4zWoau0h2+T5b8w5Kdhf4UhpGMbJ8n73C5q2CF2dLm9E3EbMISW4eNeBogXsKGrb1VtO1ueWveil5+Hn/iiIieRBEFTbkPCNyz3GV96fnkGOib3FDgr7oXNu+P7gp34cHrbF2x8IGyR+W+aWtuxNYyncu6jnnvG7o9VHPhOBSr9lN7qOaaS98o4JxCA2DXBui9+7VyGKzRbdndxXVJLkfC2QQNfveWx09EXBv/obCMmQp8+++6PXjS5ecTBiFDbXZm0p6gy1ZuvJLwWRHHjqR8EV2Uk8MG2ktQf3rSkbwUXZfwc23/nFgJb4WrViCKyhMYv04oYIdIiAEhANpNpc5gM5Vtz8dBnPixPvESIR97nj1b8LRBj6vSh6e40tUb1xc3sByakVPI2IcntZ334PQhKUcYhPkSqMXdfZVIiCZKWuuLb/k98va/yDKtWLvu99gneb73orcElUmhpmr6/edFcgKobCE3b4mT+IPb103e3BYDAehEPy+d7YvMOzeylrLb3P/2vL+8xFyAB+GF8SJ0eOdd332LBES4YNT0JDuf/XglGKO4kduecdEwjA/XpOwZjL/0OtKZM1yP63MfHOKwMOPv37IUr52W1EinTv+vh1u0fvu2DZ6JKVhyY6OgkDgUgREgNy9fo3tSq5QwuQI7kvjs6GyO9kBbA/cLGWwwMBq+NFrcrP4hxEcgSZyqaIwhpTqjmQS3S/f39CTd2ZE/MbChL399jEcId3nhhAjUzjEhJCLmMmCUIFKno3QoHgux+u+r60jf45JFOk8zTEvOO+XwsVlkMj1U5q6eVrbgnGZK7WPAnxmmIssytx+PXiNkXXh3S0gJs+WQnBffb/hn3VISA2sqkwoWt3PTQ6VAiHob+l3C+IZ1/FjTJ8sK1cW7rj3oIDB2tqTpHK8AueXLv93nguw51WgDG3AdIeqGE9vttz7ySxSLt/E4EAno9WdSFyLXBQZBn40IYm2MCbn/zh1DW6eboQqQo4vP8hfYr11nDmxktRClq3aoJFw/X9hUA4FiKUs9MiA2Q6+uKfF07yjZiHtIqDT/1eSJg2ZQai4Dwg9N5CGKkC8SjlfRvvfHPyu16V6AFjSW7O2zIUgaZf99eAMVhnXG8oOGaODE7Pzyg7N25/HxiStkdf/LOI5bTXIOWhp3845c2sY8Cs/ntlLkVy2uNrd9w3Wn7zpyb3HX/lrwpBfGFqTYHMhFSl7OOao5+N8e5mXJ+s44r1Lu+maVDTMM7VB5+rHr3CGKrhXbMq1pbfI3rPMl9xunyX58q16vG9tTk9699MIGBTo5PT+SH1QhyzBV6dVgdu9WVgoenwrVEPuW99vnquIGsrtWYBSUEd6w3CFvYVyQCRrAHJJ87Bdrl+72MTd6XF5q7kMRry0HFTZ7IjNWVjUQUPPfOTUJ/aefaAs/JQ5Wfv6NW+wwUZJGhO/a48EwcPL2TjFu/BvC9feyySM9mAvZNk90Nl7sdfn0iJFswTM4nP4zn0bvywJzChsYTgNjam5Tc9PpHSCdJEVtws0DvtykUwjG4B2Ot3PzpxckBUDgD7DoFJDWuLODhIwLGiYtq3VqPZKB+wMPDt93wpVHb2DELHfEjBIXyXrUCakz7cyP9TCCTTNSDqEAdaCMKobxCNa7X9Hke8bvcnp67dVTY71RAL1z9zCHDRFgFbsDFyyjLI2QODV/brgbJBJBnihIw2sr8XSIPxl7rAA4hI+nuGgFrUBuDYPUmY7T08OFyuGBEbIWMjsyQM3RpBhCFaOCoVUcTdvIOg75PY+Dth180iYq5Yz+ARMv/ePc5WvOXTf1z28jeDYNN+gmjXbDk1dS+jePUtnxl8FykuriH+hADqu39jcu+mu74UONP/DrDDWibB1d7bwy0M4btcL3+pZuddsWmaQOiJ6Q47V8AF9haKZIhZ7Fkeg4VgfeGUOZGeQzIYUXt7jVcjxTM7ZkitGgIcqV8wBMlwXMiIpjrgOlQum7XiwLODNk0CNUvMg2oilrO2SNWhyHNCPPvZPwyCoyq03wk6SjFpryEc0qBdF2vP1Xn85TljPT1sS7Z/IubA1tlU1tMahOpSoI234NCtHTYEuDB7DUEIHGIcVeXBZE4H0WbGryxs8/7ApWunJBOcobb2z67fnZlIDh5LuWTrbnt9tPrIS8W2+eFoZSG+DWXP/Z/gvfk/Imb/VYJ/fXKdPdP+BnHQdnoCaVXPi5bfPE0g56KqtGBBd933tclLMuvTAvRuuR4MhFGbnI3KQp3KlHBgE2zyR67ZNpV0F9xqbLT5LYO+f/4Q3PX5f5xIONwJkvQLNAvaGhEI0KsoLTAycSDBTUE7c7IZfeKgdaLCRdZuEevWk57cqpltJi0kl5fF6IdwbZCRahhqTkEEgVXINVmjQvy7iqR538VrQnLg8OwRrvrd90szmVM7Z9kmCRwe/gYhjDl8ZGSzScpnDJatSMLl9/bImuQzeImOvTTtdUtgjKeaZH7HXvqL2O9ITh0zQqlFrfRBbO0cqKe+RyB5ja20pwtIDkmQXFMlEZjvOyIQqevca72+asHpkDaJYdX/rgW6ob8GjjDk+PcGJtUA1+NJuXrbfRFEy+94RrLQBnKxU/p3DIEAHw60UI7VEGy844tTRM9o7NMhEhiQq8qm9QGzzAHDgeX8QBpjX3vkxan7WoM4vD3FBuIxwhVbxMBgUjL5Sw3aef+3YtNx0YxCUx15lN5/8crRuz54ddgAH7hs/WjJjgcn5Qb7n6hIKf+ql7ItpJHfS/qzQarRu4qmsepIlRAtKN7iGr+iEHCuKwSmooULuBCAFBRqa7+ucKQvcvN3z7heCLDBFMW1v2sJJN3PpLA9SSa/CMLsKEbMDcUgwZ0Ypn3Kcgs4E6NL0hkk7w0tIG/KBnHTIhTISy3IwfhNn2lLNxYRzc84WaoQ7AwqUPjHi/4trftgE1OBNAsZqPlOXM8G835sPVW5TH/fLCB50jEAjKO/pwVE3V/D+auR+dmpd2NMbU4YSZGbXOsUXgvXY/88hLi1SKD2mtQba8uTxF5wjVcO4lFFRNs/vvTG0a9esm4qz2zlzU8VIvvjyG3r96YFMQVEdOnqWwf3fhakxKUKXrP1ntGBp+c0BfE0++0763KySCHS9LpdD4UxTw0kjdgmCB1OwQUqXo6hlXyeF7GScSwFpJrcjikJhIRHdNYTc5AEC7d5WBclZRP1/aSGwIvTcPQwuUht0lrokMWATgQgbhlsqw6/GPot9ymOxYddn/evMUnpDSSShQRt7MGGpffJIhLR/bh671cLFkayW2vcHfrU70UAcKgKrgceG0G6/Hzr8380LzbCu4OgcTm1ILOQjD3Q21TxjqKSIPz8jOA33v5qcDYSr78f+G5IclLvEDRbyR7tebga2PRwBCexT4r4rS9MZ9ZevenOMteayOnehSTJGnbWWEKdC/Ag5vPgBuKVykGloV4DY1tx8zOjnUVF4mnr7ULpMlz6OefqeHk98KfNL4Nv7J9td087jHqvIwKhvbg+xCzhzaLUb7nKZm1qDzaTUeb/qut9fpLIRiytGiN/C7hX/g9RIYNJ8Jsz/Hg/fEdv7L1JqwunOBsBW+i+qpDBSh/tU6wTjJ2q1hv5Fjw3H4G30iq+LyLf7/zPCKeuUZ8wgEwv2VDm1WYOIP5Vh5+PyHOrG7fvzOhtQm7wocJNdz8w30PFO9YjUdxfOKK6ddnO7KWUfNIw3C9VnCfrmq2nRuuPfz72wfdteSyJbk5Dkgv0UfpZgKEhTiolAzucA0WSy68iJeBd3rv3kd+al6TZgsRTc2ltL+NkK6RX0/M2n3gz9paUaX+fcRNJlT4P2SAtiLFNCAQslNrdQ19LTDck0rgM6dDVUyKF+kthHPFdh3gsi5PUWnPvp4kS8vXVgTjoLH1/8rsxoSZyk2JDNSI94GRtliojVDGSTRXoqol/82MD5kJtlEbSRms33FY3CqRIr3lB350wIATn2W0QNdSsLiuZ2zJjCK1NkWAD03aI+4sk91z6OJVp04k3psbGASCynUmL15f/MTRzFaDdemraBrXms9JqjH3X/XVs1DkqzsY734jsbsSXHjEcn/3gWUIBC8Wh7EWWPw8BtTaSYbs6dwzusrW3hYnAE5hRd8HZXg20Z6L98PNsBALeMYHUSrlhPTxtgnW3ThtjEIZqwt8uPdsgt9w1XzKE9+rRuXFJ3+gnOgS4ycoDT4cbOPKImvSNhQDX4l6FwOmiBMa7qVz3vB453cepUGMoFYkQF0TOe4h6myBQ5XMmIaavn56rpPfKTaeCA0o1J/JDJSwSUweRfWO/PETuA24gvXLmy77JcQZnvf3zU9KY1G8dIRIfJ9m599XEyAPFBjW3fA5HSf9O0qwatA8Hc8HVw344GxMr3y9kKyYR9dcBrSMZTJ+ub16XrT8xT9ohUGok/IELiNj6Ilhrr1/A2yKQc0WoBMZjfy2BDptqWEJOzEIYaOrKQ4uSKSaAnRCTXKCdD70eArUTjhjJgArSg4XvN1eKSXKzSKEYS4z+twCCQJSdRYJy53pnpNE8oSb/DyfS1vgyfsIO897Q5cu7e1sIA1HfUOtA6thw/34+6s6pZtkBpQfExr0MKcIrOFZpIEsbMwEYG1uNkUoCRSebpsgp1BeqUWFgiL9VIc8Vsl3ULIC40tX76yv2PR7ayIY73wz7NVPto/7m1lciMXR5sf1S7bNncJDt069ZwtuWIJHOXTi1wFY+1EaHG7XRFRNwDYPor+fvBJCIQzrjdTc+GEQxeVe5Rie/fs8no7Dq0DPTUWmJfrmYUUJZxlAzgKcDmSeK3XHdrgcGDV8Znq37bwhEoal//XVqQvsZkkqfgeSkngzTTL+wZjiqzZHYl8QvA5catLXo8sYSzRDG6pyEPm5ehD/LJU5Krz/6SswBotsDawqR9z/5w3D9Lt9fYxr9bxNCvS2MLBomlHfzFFrHNiUjgbS5rtgnWhkhbrZb5JyFYX8qmECqx+YzK3lyIVBclpK1/y6B9OwDsQK6mEZ/L4/Xkef+aPQL77tktHS3Yr/XRxctPxhrism1jLaHcyKQVq0ipnF9XP3ilUcieUz+j+/aasIWcMJ+MqB/uf9zMaPBWfjb/ym4AkSgekG+2wvREf1Ul8tV6pXNSS+ZWoZ0XQLf2TTpH60HqAUG8dD4PNM8qRNDi3S2gBngUjX2xdvuqSrTKcVH35pXBkBCyqvqn8k2yZY2rWPDushRE/Ht3wmJVx58LgKD1pH+v7UQCo9ce190XCkSo+XGPmNqjNUo7ioMiItfJjD37/7CIO9sEggRPqcDVTp7jk3GWD7DHXZBW5w1S8oCzAJjwDxqL7P5Jbgg0vIVkzUaSu3LNn2/MWBIbCslEJgyu1OKfd4jE7hXzzO+4v6hvU+46fHfHS1qi578CJeByEvKprdpJ1y7pE2bOQsE64bS1nsCAaQS8cgIVkpLv4a8tc78p2Hg20Sc+OZifJIgJsH4bp/LaMcp2ucP9c4KKByPWjDv+ltzNkEPxrL0xkcm3HIIcEGOAJuY7lKbmMHAHlQj5v/WYWNZ6zYZsSZdVuKnlvUeGBD2DLulMJD+u6M8NAX5EBxGd9XGO6dqRCIvbEjKvqbZ3MtThAGkoPMA9nXnvccPV88cN+pRnw3RQp+nJ7fNnKTk9BoK4nONpgHhKxN5rjy75njRTBB5Bos5GqijfXo7XE6p6zNmaq3vKJqHflg9jgL7w9CHj1ME0rrPTFxCWv8AuiAEBhBpefm8puh5qa9ruEDnvuvz/xQZmUFkZXDuva58RtHemcRnM6UpK3iCdGnwtoPV5aS9ZrFufXHOsxRFMQOZtQmqAXvvCIIa+k3kK93xuXnz7sHCq/Tzv83iwUvXbwvGL+qsCjIl6KYTp2NjtxdVQlA177V2pOLq7MXVEah184zoYDmLIYyBfdCqnQupGtTHdKNDSlKdVw0C5z1c6PR5e2GuDGDIjSDFMI6/8jcTtVR0PgncPq869OnYoxVFSvV2LrWVNOmN96GcPoFBDBUR9nEov/cdL559sI+hkpbxUYmV7HpPG0MbYuKAs8ReWOuZBAK45HpdEaXimvL76an6QDEQcfnq+vtGiHEiUoxAnpHFtnjEfj+xjLBCGC7SdNEl4Ir9Nd6K64rtIs/puhsfDrHdfj8EfeSbKxo3TELP65lmAKgz6cKEIJBdJgFk8n3kc403Eld6z8eXTYxEADlw52MaToz98pENPK5rqdemiZ+dojAs2rsWKWn9PYcq1zIKBuos4zMhbTdct93nITCOcMlnWvtb1uzL4fWqzeR+e6qHLo9ZIHa0aPrX0S3P/8mU+us7HJ4kaO1GeNAzq3xe/k9N4y7u71FERYNpx5HMuvZE/uo4LvJa4ATtI50fcHPx1rtjTDc++Bsx5iEC2X6vmqDx/hSYIhCI3BaxQAKcvX0AHY/LzQBkmub1I8/+eJIE196/EERBVGMDDXENjZhvGiiZ1LwsxH9BMlKs/74HBidkjgYGUdr69VB7cH8eEAsGCVINCXWwqDKkDOTXagYXtNAIlDi32Dodut+6LN7xwNTmifz23qke9F7yNz1VUkdaLstxQp2stsBc6oR1lnfVP28IVh16fhApEyCt+bQqtYYbq468NElbnwUISB2J1JO+FZRGcz2DBa2zJoHKjUFTw9S+99+DoUzj2onxt6vdMZa48roUZfX3YnZUMAV+bBd72xLIyS/8c6im7EF2FfyfIhAXetEt8NImh20RKR4PpO/7xN14Nq6WYFKo/o4mlTvqssvzbxgnleEW3KtDCxNuy3FNgkzV/vsh2HLyS+ER6o02hrWuhIzI9rrEurPNJ6r/CuGRUBwC2+/+yujQs380WrH/iXCV9vf3gBjsAcMe8fWSLoHzxFq01yD2rJZHCQi079qRYF3Pu3T1hDG1ru4oNpoxlh4ivahrZ7QQ6ILfStpIRBxnIBjrUITe2tBSuLrDji1rFu1Fh5wpp9Wxf27ePidgjHCanW0Nqku+AiJF1JHio6KwN7Bx1DblhJ9ZhiOv09I9j4WYy+96f7VJ9CrDEAhCLW0SExNweRStTsHkhtrEJHhPcreec80CyK4xcX8dUCPoqjxOubA6suwfkF6zIPLLyuYwUoPDD6gJCd5BheGICCIsv8u2/P195oqItdTpn9NnHfTQZzwAkgKC8V7R2zcUCaC2XLM5AUlS0LvYMb27exBOa+Dx+vzrAwAxMdaKjHVt1X+QkvBHnlvv6OCipnJeueH2iYPCvcvGzb57oCKF2tXF12oH97eCqflsbWlMpKs0GCEDwLnBfovWo7gSL8+aI6KNlTB0nNAUWD6PTnW41zVb7o7vajTyG+HBafOrEhiDQwl0PbBRMkqcYONW3vxkQZyvBbFQa/rf0VVx3ba2opd6CwHkzTqFIYCgzoaAkOY6qwoRGINoco6pTYasWcPD3J2k4YzoOSWbjbrXXmPEpp2z6Y75Y0Hw9oPkXXFADfjvRK2F4CNk720Pz4L46Y2yV5P1K4hO6om9wIlI3ThL58kEuHAu6jWmkAVgux/8tRg3Arl41ZGJusODqYpU6orn1vqOyrRI6L6fsO9w/RVl7JE2UyT/7iIZrtv1YGHwrwVRRvXl/TUXrR9TX6TWwqK2HSN32/Ii/iyeB1kgmx7xigFuPqRLhguzSbdYCAQZudvys4FaJO/HfY836pcxuH8I6Xop2ANbAbJQBSD1kkL8/T0AN5F+0F5jUA95gCBl5hn19QkIq0+4BBwOItV9C8wWsl8Y1QknVeORRi5un54386CS7i2qgBwqiAFRrB/OZ3zGAdgX207WqHJfrtqrdImIcRBP4fSCnf0Yh4Ck6p/dgvEKirJdVx2adlOTBupT9KPyOYi67FWfiZH37hw7UjQFISWoRa2b2L6876KVYR9SMdWZcHL0z4p7C270uV0tTBEIaFv5TAxo4r+LGeDw12w+FakVfWxEBLOXDkOAEDLApbb6WOO6RWj0Q/UHXHi43BD1AxxPVBoyZOcTxMDg5vZzLUT7J78ff3ndnCrVPwcEUj35e1PXbv30Tybqko3B8fp1a6EnKAgOOXD7aFHUVRYmmKO5YgQk2JAk9h1m1WcOSA85my2mkUJb9CXeMqjDv1VtxAgaF4naeqdmQe06/xujZTc9PuW1UlNRj074WuARom+zo71fsdyvfHTp6Ir1x0NlXEjCA25YxDvLgZAZwTymAqFOpOrvARiiZzAb2nKGFuYRCKheje9GdDq9H2no0e+0S9n/2G/FhHH2JBCqhh5N6RnqnzsEJELtmjFfTZJ7peB/FkIFnK6NrCGTCTPA/GVTQJp5948Bks8iuN5XDyaqymmBx9fnfd8CPVaiJu5FYjD4rJPjEHhRdFYk9RQniStZt5COY4ObFMuYSQsi6OY6a9xUJ6UBc2n/03EUDAmhtp/b07Za4J6niwuYnotdmUBFlUW7ZOfDIZ1a5BSD4JpnbCcRiQ/JCnZ8xAUrDs8LGCbsLMTPLtpRnq/eprcvWujHi8BbxhDaUVHt4J3gJtuRB7Z/DhgkEJDGYnXlnikP+fSYML438WIl4K70Z2pF6tW8X7O4Uw+4QZueAcFVOpIokEdjgD0DLuCE1ofOjXtJsZvO5l6lTmoK118HJFceCZEA6XLhqZ5ygPrftYDBXL72tklZMsmjYXJ7DxWVWnnj/V+fWlNqW+uxoh44TiKKxcqmrmsK0lrIgi1npXg/DaD3Ul6y5ra4jy3gs0bQGrr1z1p/+xfivezRy9YenUmULRhbq3afv3jXvMg2NVEOnvmK3i/Z+UAcoYYRSncRNN5cCEyqDRy8YfcjoZa1HWScFXPl5rtDyvV2D2dSX54QDpHyLF460kmuWc7H9dvbxujF5mpd0zMJRICLyGQscacafOjaAxszq5oPIs19PhMDhMDcwZFeXjh1Lmga/BFUfGTuvL4EDd0Yt0PSpA9wIg6FWH3NPMiDdeQdkRRDnNoY22cyfKVerCxS0bpcvelEqBLWToOEdpNco0ZQOTgbWlfjUKS9jf24F9FSxYyfmgXBeyTDDbnIBVbbdRILEDOyX6vLWHmmcGTrbe2pTPZKScDSGx8OSS/dwoGaVF3zsCY8RZhdZDkU1TrPE+zH3gNpJO2G2u19q7ta+7inELcGD9YNFycJeDUdIcGmsM/uCzuYCt4VlwWzLIxKJrLIehuBty6zPIekBIcKdbsl9swHzM86PNbDmeq+zSQQYtKC82Zcuemu0S99ePHoygiifDpEpwXAxUxwyiANtUtd7x/FoNgAFlfQiDhTC9IiFB2QKnX9TU8EsSyU7AZaFUGxEMK6YtM90xHRMgZch+g2xuQcspSn0vBPT0eyGWxSEyBFpl7U9Jf6P7XA2P0eEVgfm2iTrBMjOKWZd64//rlAUFzTOFJi1djEN8p61ANE8/08bIfH1X0gkGOAISV4N9U07RGqHEmcsRHEJ+2D8azLvuwDe2NM5k3Cp6Qlrf1evlMrfcVzjJ0+3zaLs969US5GUV3cjm/4zWCoIJ/HdkpcwWBkJSSytvtgjWv2xW/Oc+G39Szmz35IKZn1Oe39Cfax718M6ukFdf3ss6yNqAodr/s8AiGetpx4MwaX1+h8V2+5ZxyJ/MvYcLppG8oHke5dJIONiTNFOrFsAC1HTVi299Gpic8CnDQX0qY5GQn3ITKzmKh1nZIEXH8kDwJp9dAEC8ceQMxZmsvVqQkat/cQ12/BHOUmWa9e7bGBUeL5iGbMXx1duOzmsE2oCyv2PRFjXXPs1ZGotXXJTi8JiHDIHuoBY3Ff664MxlCeuepwzQawLx+/4WAg8J6HvztasvXuYAZtMiLCao1/iKp7TX7OcmLgfdHc4NSXI+mTNtA+C3FLq/E8OV3sAEfUTcbX1d+sLoyP+1YaPzzZNaMEYIhpiMfBRbiJIUQeVrFJSZj1t70WuWI8WX1BFaBByMTwziQu84kkzltfnCYQ6kc9BrmPNH+7qiYPqIXQb/bvx0cYTG+oTNzbBgaRgDpXlkHzZbfXDXIIEaqLuSK8zeIwsKm8UFyCMlh9l8GwOI/ktlcjPyhdr/T2jAj3+ipOZ8wWtz08RRo1DterNtPgGOpvja4o+jPikqbSn1Zl/JDGZtXjo393dNWmO+M7zeWkMyAYaRaBSI3ui/BIanUN/biHAIenQiB46qH0e5KN00Rek1LVC2/YN3rfRati882R7Xf42Z/E+m0r6iCCTKlQKyVPxzokoxNTyNKBuVqYM/F9jzM1cfDZkFw+I1KqWv3N9L37iiaAcKNALGpOapp9P0fALtr/+HTGA6hud6dEfSkYHZd67in8gkd9TChhKDirapKzZYpAasfC+b7s1k+M8iOM/6ZI95empMRQLlUPXj7UHKK2xP9xiDx6PlegDUZQOAIujTBwCJ6Q/rfVg+YwzopMFinrqfeVBUXky7MlJulTFoXLdUiqAMg/K3+JHku1bD0uJE6f3iDSi3O1za8znwrSOtqZJLlq2/2R6dy+A9FiKGlg9mPooWbbvji6dueDEXnW0KFWQc4RuX2Uwl1d67WRd+4/BKKWIixnAHqnvc36IMgu1V6K/uUbT0WSqIBcLzV7sKfsBvdt+8TXY1159jIuQa3LM+Vb4LKepS4NVbKuPPT8VG7gEGDqQ7G7PGqhBzg0IZBoQDBQFBUpE12Pp7vKokURzRe1/Z+LprfepFngSOd+4lQRhOlYA3qxjannTtQGDKQBL1neTxduA4aQX/FS+0wE3B75xaVqrHo/2XC5P7OcCwl9eSgHgd/2kiIB4TiMHje0ngxG6hRuhiMiKFWA1BG2GcK/aOXhOMI4A5ThxCgMoO1ELifIIZr9+xIQOe5vrdKYtiZUizbYFpKC16ZI+VRV++IuSIEZ9TX4mXdnz5PBSdVnr2la12cFAJIKTlk3e6zG3ljFrDAIHB4T7NUtYO/ZP/OvnwlG2Esh/bP6eNwQmHcvkVNFa6+hi6s2nhgtwrFFYxniQ3aAzMeheucsNooDT4pOa8Ntfn9fD7UW5J9jcVIE4mpUBMjRI+UsaINxvDS4Wfu9jcDtHCRD7dLz6QOXrqlqzJjrOYSlPa6gB9IKJzVeaeApffr7EhC5g1Al+mnEcMNNT4fLkguTJ+yydceDy0PaKzedDPUlC3+oUwgr4k3NOwRdrfVQJkNCHJE8gGRRzDYmAGur0CyLu6ihbAONuWeV/LaQNinEmWrNU8Yq4Cigi5HVSsWqLpMSVBVSzF7wnpEYpIpY29ai1nFf9+9K4Knr7VhAhexjHdXhsnBeGgjNRwyl3I8ocl1Jufa+qL0pOLSI7s84ixY9hfup9sP5dAZE9XKGem4CeCn2PvTt8T1vBoL3SDoEOL2iqSoVfhwGdttJBJG1addDYJFbCeKAmCF3LbDAUVf9gIMa/34qgMnLZQzt+xPcy3hbf/Sl4MptGvtCgLvWMw7/IhA7VRwIcnUxjN/1wSsjc1h/2Q9duSlq8tl9NxfpS+JhGsGNywZys5MuxsgDM1TgZX4Ot6HGDWX2KvwRYGSLcBS4hkkgHF5JDCARHndGLNeXsfXteXRfiTSgN+pBov17Woj0nHEdyNKiOlYb76cBSaAkV1+L0YPve5Vod2HGtT7/r4MAl5b1i+yDIkHbllIkTGZVJFhX2ovmDmxpJoIsCYa/8w5bJoM49XKeskFMXiJZHdg34sVDFJwD4C+ONO3PV+Q8l8xPC9+e8deDSa8uBm1/Haikq2kW0ykG/WGZCcpMHWuQgSP6/7ZPfGN064t/Efq5RmWuW4xUEcJAUzVXjD3Ej1j7areFgDTM2ITNWnPMQTw8aP84ev9l60c/84sfDJ//sn1Pji5fezSQlauXOkRaQKY02BFXxFPG3i36e9pMrgvycVbUqsS5M+T7MVEpqJfJwNhm9jUZEWaAI7OHPNd6YUIYQ+1tpo3S9ybq9NCJYS1Yyzx0s49nJfQn2/aQxr+YDALGbIzx4uU3x9pU++mvp2wgqUXiLNmbjU1Favqf5FazUzsufjkYT+uppcLDrYx/WbONt70y380LDOy63Y8skG90JtQxg2wHGNmSMxakhVnqQsQHCmGSRkPEJg0eB0Dp3kVf9j6cAseqUuRMbLgDa3pbAaJBQKoVREsOgyHk5juarO+eAUn6a7OAKtUa1Yp/jNHC/8pHlo7+w//yv41++fwlBRZHs7OPXbcnVBKp9nHkXMOQQm0Zc1+fIZyz/iIjd0a+Up8HlmCuAne45dpjJMC0qhjp7o1LF9iH7LoIECOixTDaqrsEEoMDII5Em8FY7VG0n20CeuYH16rXrSZeVifFH45kM7d2LlVx1jko9r3PGVT/U8u4p+frvh5X4XSb/SHGNEggEGbWKbQmCPmGxDmq403QGBoCD6klscC9S7cQmXHUZsR1IjU3a3pSl687GmWoOAoj1nOuKghz5DlNl/8yjDRSLaKzMwjVc7kr+2YEtz7/p5Gmke39p2H+aaw9hPpQCFJwkHdMvTlXqlwk6Q/Xlr//8f/8udEvvPfC0f/xM78Ygdf/9v7LosaBHSjgVSX23Lh5oloG5D5xnaGA1+Q3t88dE1DhzMiBQ5iCzAKJgb2BC0JVntHCKcFYHF3t/zb1Ptt/WvezZXKHXdcwyPDSCSQX+24WUfWtm4YqKd3zno8uDVd/e92cOUhmtZ+dhpqUS/3dfMfnRqo9BwkE9LEKIEfpXKWEgeFyCmlwfTqyohRivP09V6okNNyq1QH9JgkpTjA9qcHB/LiEk0ylXOA6dMtZbtsWIHK0A+o8L1oczUqLZqfMMmbFGASk8hx5FYUMZ8FVwUHNKy64Yf/ofReuGH3oio2j8wp8+Kotgezrjn42vCi9KzfmU9QwSJt6OJUId6a+9GNIaLOUOQPYNyROVZm/FZvvAEwHYcoskA2Ac+LW1NEkPoTK5Svgaz4M+noCbT0XhB3JK0ftI7XylCvrN5Ti04JsBm528R/z5kS54Lrdg+2ZYk6dIU8ToG1Q5dpAbra87X8Pzkb8IDxtZTwCxWkfzSSQyJkZ9yGCoGEEnhMVToMNWb7/yVFKg1Z60Pv6s+5asKkGuv3e2URpkwTfIL3xZROB/r4ebPZQxSLvRa+aJVC/FCL5HzFX1U6Dsh9OEbe8LUajOu0r1t0WnNWJUCLdPFcfumbX6COLdxTi2R8bmjp/ur89K88/AYiZGoZocFnSe1bf4da7c7zo6EO1DrUNTjWaMRQIT+rZDzp/tC8qyGttpWEA+4BJrCuM4Mr1t4W3UfCzTwo1n1kqdILgaM/RjWP5gWcHc+368IF7HQSEUCB0ljM4N73/LTBXDGwW8QDfkWTVEeHQ09dCG1lEv8aZbE413HT5qDlKjFWb4yiqWeJvIYhMyVemz5uQr5P/25BZwbgKZ+Jo4KH+sMYcXTcenztaWHq+XCLZvG2KxBD4bZ9azTiepcMDHA6RWB+teaInbddRHiAY3inMgdR0NofFvnzDiXgGVRQBUAurxDoThqdzM9YcfTUkRvrqITlE7I9wIxn6Zm72LJvNQSKJiEMqo3fe1BjziqIy7iJ95NoiXWYxGQ6HS9ccnWpXlNclWa448ExIxt771IJU+uFI+ZkgLu+2NrkGCLgtXaCOZaYElciaYuhDc7VXcITdc/srfzXo7UQU1r6Nj3D7itcs4lZFibjEpjvfCATWvyhtDITDO4Cj4P4T47DRjXvgqjz2mXoUsM+yWr2HesUlmd4T753VADvBwkxOWA2ATL8zWrLjgXluwnThWuC2298QGGPrN9eiMzt7MNSGFrLe993RqlteHt3W2TAt2DzJmQiXcS7gxSi9YgNCqWPkfoUMkiLFkC5Zfcvo3UWHTlULQ+IEqUVB89caI+uDfPVgnp+GdybanZb1ySZ76emrzITN99cTO6/3KLm/j5CTclzV9uN4sSNJmja4JrpNuqbdyRap+yNZdJrYqFjRSWaA6UYmdUFo78rUm7aID9gbaU72WfqT9SZ5JtWRp2tfAK5pKiC7NxIoCyMQdKUK5/yolKQz4sgGg36TNurUEWxA5HcoZSTbpNDPtNzx8sGOhafrMQTunXOdyvD9l+Bctcnb98LYVkBjcoqcNFPrI+wJERt5459DGkU0vHBuOnLvbmzddmcDY8pO7MQ9yXPxysPjxf6b2JDNZUw2A4eyYES5d4or+J0NpmJQ1Yb0bjlYjniAtEt23De6cMWhsn61GIr6evXmk3FfInp1j75Q09bL+vUR3x7q5s8Z7Nff+FD13zfEDTkhx4EnfxhOAHp6lraSoNfuuD88T62KSDK19p85a//UGvfylKyHA1xjLF2QLoKrhfA05+bU6e0369szuATzImXi/a9Vj2T7vWyI7ETJ/ZsRdAQPh3jppM0PS0E5dN8e3bD/mcjRa3FGHNBfRJOB8HkEAhmGCCQlhpemHu5FOCUD26JKDLQwH7tu79SCTwZQuOOQBwW4vvfhgfe+VdUpqdqS8drf83O32adDTR5mAYTnNvb/tiIdry4iti8cQoRUPJuLceBS5sfFKY6Bs+FU7mNfWBsBVh4vQag4obd8j6gVBSkVwCQuXH4w4iKQN9yZY1cqtYPqdbaU/xbCd//4bweRUZeHVRdwJtQM/2NeHCMQ3zoYV19TgxuznSCyeTngaCjXib3GgzXL9ZogjZ+qnS2c7Fsfz1L2etm626PtkzJdQJr3SYbiMnBQtm2L4Dpocopcu+vhee/vARO5fN3xKcdALSKr5RG8ka6dO4EMgOivqCqXZg3bK3Zy3Nd3wpXXpq5Exu4MLxBAaFJW+uvAeBiIuHsraoEiG5sfHpU+/WABsOE4kIRA3JJRNmRchrer0/WBTZuL2qq4fDYkqrhHOBbKs2UJtKqe+6wDCUTHpYJaK/dbG54vXrn+XQsB5tTWyIjGz5LEPaLNgZZDNRgZxCAeUAimr5rEVeW09b+H+EPq0hCwpzA2azHpq1b+xzhoKSRDz1y1gs3gKQaAsHjXdC5p7yN12IgYjArYnfdXJtCPISHS+YvEFrw2nkxt8f4VZY/YUu+YQBBE74GilyYR1LMxau6Sl+utRU3qn5MQXUu6jnoGqoi/VV+qFJrTj9lKEFzayLluEqDecYm2c11bOFLPSRG5+ExvvCNImyEIxZhrm0VkeWd6atoNp38nwbkuk5ShGZVthcFAhKpC/ktImchSHiDchKj4O/pyQ6w/rUjRrFECFWSI2IHxc+uyw4YyuiuciRSN3j5ZKAcKslJBs1MJLYPUMteLlu+vGQF3vRUSepZ2YY/8bvG2e6MUl7q+/RPVkRF1IAU/ovqSutUEmK2/bIN+vC1gUmJpGAtVDRMWu2JD2YN3TCBD91Tqq3pf1efOjNYdezU8BH2d8BC0R4DVrNKvzNPDIWYvicLX/+j3QsT2zxyCOLvj4XpGeht5tZDUiDZFHMfXUA3Sqmdo9WZeot4TBribz7t0TXi6Njua4MSbE4cFYjInz8OxWmS0flEXETr/cxG3YPNZl6FIPmLmLDCGtnsiJFl54NkJp87rUW8945gIxHousYLKyFqb4EzUkvT3JbIjcHaahnCkMYaH2ZAe1vb6vU9EFkT/+xY4MsyPNCYdZXnw6tUKReeqz/UNbrtZ0ihIpR6H6vhqhxXqKUnffier4cZC9DKEJwQSkdRxNHcI+Xs42z24qJwXhnXPfWdBulnVLA9lECdw+7YbH7q/juNdRuYQWKw0ihFHugtbsGFhgJY5Cj5OPHqO+lp9y9gLUlPx52UFjIF9grvVwKWM1z8IBOU9ck55m8LRAina6voIiFNjSD1q669rct2cPm1NECrVqXpp1F5/JYKa/XOiPY5ajbMgaoK5UKsc1yaC7VhpCZgpKambanqWHXhukk0M7Jn1DwZREJxbmv2iwVv0S57x/pwb5ouwPH8o8m69s7I0wT3a5UZvtPHcPYtkyXan6wrjo761zArT+cg120aL6HK+ZJARd9GU+SzID852j8VKLmKToiNjQfyFJEnojoUrz3KxJlKKDfTVjAzpSKUuHBjn8E6+8T6lBFdOJ4Ncp/aMjgRcHHeqkmRaPAu86Soiryk8NQ/XAzCnnkGfLcymPScDwt6w99GQJH5njjZK+kg0dysbzyN0xaZToYb5DURyD+IIaVMI1JjECMyjzWj2/D4anyADQQCVC59L1/txXM+5thBrOgWW7f9UGNttYuMQ0DKMMYPM9iUCbXerhflR7GHtvP9gqMdcwNzM5sHWQJDAvHnr4B4JCYmnXfoVvOeyDXcFE5xlXwHPHOrjDCA/rYHXzim/CGef1lVvzWX5crSk59Xnd5135WgRI1UBVFLjv0XFmgW45coDT0WFXU/17fN6/b8FahRRS9+la+axvy3gRKoH/Z/ESd0IY3wcaEu7CTebVW/unPBZjcTy2ZwGF644HM9DTK2qBVnbo54RAddq1EAogQ3j/NuBLAg4NwXHF33HHaM25IFvR9zkgmUHAsnkax18mlfszchs7sdFAvRnn/cQnq4yNm1lNWpLBoIQF48r+4w/mvaNXa0Aw0vV098+lZxUZgsx8K0tAolmeQXU6wypOXCBZ61VaUmBtvAJolIxEZ3s7CnXbWdbkDDrFggQe25by9LjMJU+MwMY77xc/1NtkIUAdfeZlsD7pF8MtepsAQfNGoWjL/zxvMhyBDObvKUecEZIlx4fmzjU3I7OPKtfVoINvXTd7VMJm56biYYIKE9n4uXr0yoWAsSyuNhsqYIhrKydoILQ4Xup2MLQGidALioshIPwMiVu+0yV6Ai9H6fOK67xIpEOPH+YGPU3EWn3oz+ImANVS9UjRF689VSMWRd3HfWplpiIuJOAc0SpC9OS4t93nm9VcpKNU8C4xZQY8hgPaVBt1K+GSZDMyBr1Xs4KtX9Ae8IWhjDxoo0Bwcp+SCKk6v+7EAh1gm8bd2jznA489fshDbxzqE69BYjT90hKCBtkrI+Hq67lMmOggy/b/3R4r1KM0z37+9qimx48Nw6TaVLQEyy47nx+u+teeUovRBLerOPIWvAb6hK1Ub0DuwYyUVfMi3F6w01PzWUxLAAaWfR6OIBQ6vuTIOp7fzpOzHM4UG0h1P8OwrS6OTsx7MuxZw0Cc7vWiH9NPrU2EZxsIu3tO2sTixfib/89qaCm3vPicNVuLyAxJojIU8KRzPbNSV4Cm1P3w4175grX2uf03RmtURzvMf7MRvr/nUBwASKWZ0ZUGWeB7Ci/JZY4OmDg9y303quE5fufiKYJ/jd+Aab+Hu7a5Hq4evSIbRwBFpJBOcidyybpMYs7z7KPGPsQ2TxEnVNXnmX4RpVgeVeUFhROSMJG1LhJq5e1G7UMPC5nSbdvoY3R1Dr4WjTGruBybRkIZI5mDTd/ajBJE6ImwdWajW+FtGSLyQDuWxW1MEQgCZM+wqer67dlOEIEbb3IEJDepFWq7BgMjaCtRkWAwgKz9qztPV17Bv9e5MyxXdlDTjJ+xwSiv2z0mhrowA1qJ5LqJbJZFiHP61ZJ13OPTPtYCHAtAcWeq3hma6CSRn2WMi7S2j+S6nhh8jPVIdU8SJX3Rp3KoU+HDUTlGKqDARnR7fOOqIJ9Cgw9/WBRBSQytpnAvEytrs7DE6W7YiULIGIPiI7rktoD2dr4wvEyt4jT9Jz5zdpRv38WIDXFsKQQsU1iH4oKaG0WKi+YRSDede3Oh2JPOFey9Np3vGwIEMf3PkmQ1pD6hulguMl8IL4EyXS9BwFHhsBX4zf1/PgfxnfwrR4aWuNzpENKd3jcNgUhWZLQFuEELeKcC4GQAHTHSGT81I/D6+GhOKLJhxtNf61ODQGcAkMdOhT08D2nqB6CajxO95ud/L5r3dKrbMSyBEH/R+XZJ/QT/oNI0ITA1+99bEwE1c0t/ydOIoJgbaAvirGm5wWpF0q1oOviwjYQwyCN+ntAr48HYRS1K/TwGc6NHiA+aZnesv57zOWGPZ8cfJ416a8B9smFy/YFh4ZYN+xVHjw8hxbmeffGYF5wpB0fQmA/kCz2jj2ZRHvo6R8GY4qShgLWo/1tpLCEPXEm5rfq4HMTZ4y91DFGBB6+smPNoXXyUNWctZmfW6m4KDurs+4tqsTAsxEIbta72+iwvDCoXro5dar/HcARJZPt60pqISEuFSkaZTIWASdxmAoOmJzV/0Pp74y/lnvjIK0ujvCTiHDqRHqb4H0Qi0sS4iSXHEIwiNEH23bcW+MM/b0JnqkGgudroguTqoXzmZdxIjAivf8tprOurEPP8YcAEmEefY1GC9Zo68neHVzbxTJ2+6bdCe3psAA35oEaUssS9LsaYnizmpqTqNayvda/197EKVPtelCBCyMTaef1475umU0mIbb3i2/lZ5JI/hxJZg2u3+sIh4pvUyqWi9GSZSECOT3/ZNYeIMRQJ5T2exMZSmmAEFQcTYRtFuSVaUv/t1gQQCZwH/CqasV01me2d/E/f7s8IupFm7NlvrlhOLy4yKAdklCep32NCDlEtLirb/lMJPelq3coS5W6w+DF2SK6Hn25fieYU76Pg2GoYAiHk43bX08wbl3Qh5BxCsrYrV/vciU5pVpEkVznBaOa3FgIWMyofx4VhbHsnlBhoh7/y3UPy2fjFum25hhDrFdhVAzqKTvodK0DGSp96F3/mZyp35Y1ZDe4xlBXNmBuwZCOfjYIxW/gjnSWlqhalRyucryIMxmLmEy+923bIFyDxNysvJlzBe9YdlNtjNx/B8IbdL9+r38ZSMQ+SMRjwBHHW2TMFsrXgUQj5J5wERiEsBkWxAa17kxp+3TY6FxS3hXFV+cwL4iE6xuD+IRWNMYqGIZ4Pnb9vnnp3dHW/04tjeqxxYiZ4dzOH3d3XmAvAUgG8+sRGyJANiW7QypTAulWT6z6QkTy++8hOY1AbEP5cl633lHANCOHTq07bk5lpr5GhsGbmmjUz9m0TmtRaqa1WrrrgXAbt5InThPrbMaEfk8RYKvywg9qqxLgVuJjXDISIq5S1kdw2X6nwd7GqXpw5nvaxPMIRAZkTyAeSn2ygPKSqCoQhHo2ZGcsBBZGqvhQuWsPkDUNR5x+4x1VQrSpK5A/kANBDbiKcW5G9uXrbgu1IJ5X7qWLQlpSJk810u6Ua5G6OeQqtuEWDiFkliiCO1rURtzSdZvE3eg5cWT2a38fksV7cc9stR/pFmUtcLc2dmPO7LH+3caDY2MWiAoB+q2zQPp7W9j9kEDm6di7nhlhhuuPfz7Oi8xr2UEEwWRHlvzO3Ppn8B5ONZJbAMxfsLhXXRdKduxjFWyTHIO/MsCpXfDD2mCE1to6XnD93upQeK5WI8KT1YdfCPzunTgtWCsRd2sRBCJXH3JowIxiewKBDLwH6d3JxDkv2XTizcIhfjjPszQEDoTMdGUGXHScKJQsADSLA7b2RrYFYgf0fm3ADdyf+hrFWUW3312Mv49de2Nwehui2+FHFm8fXbrmWFwjzZbsejiip7oxarTAWMNRjVdmLVUEs9heOC7pYR0gN9fnYc6KIs0Wb7snVLatke7+ZhQNsaMS0cQievuN6hj5V+M15C0b2kAIRu83poV0/wRnoEgvmaUy4sbW3ZpaZ+eK4KwkrKMZIAhuz/ODC0O2oUCkXrv9tSGwf0Ou+l5KtBDu+SZLgepGK2Cv5ile/W/gmHBCHPZZ1tTZ8yQUdcwxD3HkWnlmdNh56DeCkfGiqYlHgMkkEPIiLWkiK1TK8AO1t1RLIETU2TwW9OaokR4wahOIVwZ6qjAWlc8fF9C4uUeaBN0AdeqbfL6nHigzlHfkWQy9/DxpiF04iDoEYIy4O6RwVsnaW56PE5QYbUt23BvzqIbu342rHP8+4hPcwpnGEJ6iQgRqzD2fxJDOf95la0cfX3Yw5ilHS2FVa9CTGohxKNpPhUxj0hr1nDPqJcoamkP/2yFwKE60yzld0+/770Pt6AgHAQqeakydeV48dsadXD5jIcYbZ4YUrq2QzXijx0ADXPIIuQXr2yM14hzqpkl9QiC9OgTRr+t6iLVAs6nSto7ZHBbveCCysb3H+spAFpiFd/Yy8bJ20ZzD40V9ekFrg0Rx/0BXjCGoenUxPAtCQKB+8H1Gb54p6F5SaMhgz+feIghURCPEQsDRwkb+/kBzOcht00g9UkK8wXXcEjc1xmyT6qhrhKo9T7SuLJxMgwpc2iK//9L1E65uYXV2icRCRWHlHe6pgdBXQvWCvEQzphJFREVqZGUa4KlCeOIvbeM13Ixd1SYfklBsIkiiNiGNd72y+rXtoaaCz3F1720lrnW/cvOpUI/9b011KhHg3FTU2ItWHJwnwVo1yvvFv9gzpD9tQECT7dGC793XgnGQRGpPpLpjGFT2PE8kpYW9bhE63w0ndYiZ1dXFmudxFxmU5ryoHSq/NHWGSg+K/XqmMc8GydwodblDnOdsYOM333U6SlVDdRK7KC+mp/f3ApWH55JCgZCIvvBZl2cRo5AyiKaM2cJDKuJapirPBASw+Ijmqs0npwqvbPLSMkYBr3Ap3/pyEAxC1syN/t1Hr3EWlWqMV/cxem0e17ZMWBvP4BUvSBulPWa5LTBrg3VUGGodo7cdHySK+xo7j4vavHsunICghvaNfYQQ2BxUP4SuYk7Alwer9Z7VptdU35/E3nBP95V5kB9jCNdo2W94079zIbCXkBZ+YE6kI2LFuOo+fmeelMOQMI1wqhRVjWOFahqqddl36rXzD28en1KMOKi9GJ45WcdZR4aLwwyVPgwSCF30QPnBuXh0ZoHNh7SimUPnOSRYIBH3/Y/ViPsgvKmvEbfdX8Vnk+WhYjQjZBJDgiHjCrG0AJGOPPvjqFfwvnoGxuN1jGP1AXc0VtzFX2oAIlQ406+BGoI8UJKRj5hIDioFW4N6IhNUvlfkHEUSY+X4OFkWhXEStKqscUDcuC8Mzu/M81rlegG9ZVtXunfY4C0F4YccDNJr6OzUy+mCp4RpG9I93s8zFR6pcXsj6086td0RqXLeb0+GCsh6OFIM+1Ztt9bLmrgEiZRzRwS1Wd6L4THDlLJKEFFXyTg3doSSNi0CA7VF02ybDaHOsoMGCaQ30v+tgEOaaC++WsAVTaRG5Xt4M/Kk8rNOe1Krk4NBempNbQQwDdQWbWp4sNhbVCNpz86nsLE4rm4gce7gyRochAzcsDYKl61q23fCO7J8/9NVNRx7z9xjvSCUTWTHLd5+b3BCEsUYuKNxMvPPLiDAprQI5Z04/FASZQ9tol1y4SEX7uTZdzk++l8DsdSG1JPC9An4Zrz3eu7XEzVzFgMy5v4ZJBB1L+MLCZBUQzk2m/nPsicBRG3x68in/6SM4dszA6216vPLsS+ZnBjMrLxv2IN6JjQBkkW/4RWHnh+MSyXQKmYFLsG/C4EkQIh6pNj0YlBzhsTbLNAFff8Tv1PPOh/glrOAeM3OJZEy/ZITh+o5fWpAqDSrDte09YtWHB4HoKorO9rIFMTB2QQTtVStZaB/PkkyzLLPCIS9MXY/j98NMXFNAdJUrWwmwqnu7K9FOa75hJtycPPnwDuork6DIhXag3Ja8Jyd935jtHTnA1NFZkEE5d2trUHiIgB/26xof6k3kP9s44KMfavQePbrjtmrx9211wVveZL6+4EgY3XZ1vVq61MEijOjGKRkDfxtmNDcWs8H3smzOaD+XQkEIA7nedgA3DWvn8sxwwk107N2MukrCxcCCDvrqAQGZFUf3gpDmztz1uJC6KW7PxlzkP1ZG0/PpbXoWjLLkOZubGu/1xa1gSRskzfNi5pG2g2pWTmGG/Y+Plp56IVA6P57ACnNh2pl3a8rUkJb1P6+FqhPYcd84htBhCQV6b6Q9G/BvNsUHxIDE+Ac6Rkj0GyjV+8AQupzuVoCAZw0ovy1I0ytDVE/QyOwPgsFtIU1dLI5G4P9dyeQOTgTng5JY7gY3//8e+YDm6I9bm2h0tAhyC4Y/XWAIJxjOFx0Mw0MYV4StdeS/yBRIEcZT9/xsAcb7x7Si7rQ15MnaK49K8OWNOatCibBnTu+DiE8X3CUt03V5JyKMR1MhRy9+uH3+k2JeHP/n01iDAH8YRuK/hvjLEYDEFDr0ibZSIChPUoCSebjt31tv3fJjth04o1o49oy4YQjz/4kJAeVdF1RaRdK41nEQ+ElXsbo4YX69yGQCjYAksd56uF9mb2YAGK0C364GL5DRBJxnYd/cyS/J048LRvPkBbAm1V7IuLap6YvBHUcUmK+MS7w0QD6x6OrNt89z02awBPGm4U7M+4hqTVwGmxft0Ct65urJQhcJiFWFyZJSgLWfsjGlp0H63t59mp3S6omuwMitcmNNU7zjbAZjYkHLgOv1g+OIGjf+Y1YQ+BOIQJMhceLlFDO+3bWMY+WyNSW1pvXQn3mmZDw4aI/JZD5+pjAqkOHi7d1aasKbKUEezUbBiZwnVurrCkCHD6cMIvovvRxm+PB4WlRRF8W+d8TtJNkByyU5GgBBeX664imRS7tf0gmhh2ksIAWPrhlWcR9jwt+zpcSHAlDasBCYFH7U50iabLjmmmD4OCpNgmAZlNmRn8fkfbcnkO20DIy+VA8bLIi4rtia9W+UK8Hkly95eTouj2Ph4cuEYb0MS4uXcjP0O+DvbxwiF76C6ShaiFMiEbqwR1uV3OSjrTiwLORRjQUDJ0FB57+cRjqVxTCyv2Pw08LAbYGP9zUikfThfdeuKx6qopUWbH/qVBVb9jzyLyy4cCZsRS2/n3yYzAVdThlDimJMTEOHBJ40ZC0sBAM2BZWFa5rEfvrC0F0xyhI119HlBH2b67JdBXVzpaT3JX92YF+N+T/pzZJCfdMRt9QyWkP9H7RYM9LkU2HXUgdGII+AAr6+g1SmXTpNw+nbFUeexEdDcdEGk3mBlSvyXPLPuG+NaL9ndgf46H26briHi1hOTVaY7cHaRaacvfXwzt2krfrH+YRzkLAsYHp9dcBSURTqThQz2NBXD5HwucxjcHrCcEImGbR/p6EM64lRYLAD9LQHnqOYzZirJ39x2u3uhCQ58uYwDTkb1kP0jdT6tlnbD/EIRBtfQcJZAgiK3YB7j4LNt4+x7ESekT0/1A9NAIT3+BdokYJpi3kyjQx+TT99R4iCl4WBXfBpTbc8cViWD8T78Ith9IeZkFvOAKblVyLTRIqywByDnWT5I0Sh/I/ZwTjvSesFozXGPJYCdzPuy5dfUtwe1y3Bvnmv7/CmamYRg81GDrrt/MBUvf5cAkkjgCvNYfUFWrmbORNvVVTWXLtIG+fgIoZUCMRLPXaQaQCtZis2JJz4musZ662HMHyktrvdeW7PLZCW6I+ENvDonPNxHynBGJze1eaRWz9+Hd+rp6E1COCDaY+hZ5+uhYYzZIO4YItG8D92n/XQpxo1RTTtGChcDdcBifjkq69decjiPaX0XGx0VtbQPDiIrOMbCCC3Xu7qIp5FJ31pirW/rFzkqS3VYA0mP4znZ3Bbd1oAJI2EUyL8HEs9QJxCw4EyNdfnwVzxHEmiN3ek2xUXCoc9ayf80IwP4B3Jjrlewapx+XeGvSqUv3FNLxXjKPdI8HcZGqtm3gWLDpXN+k7JRCbM+QVqob1mYl0wVUiTWTMvb2rHr44/SzpIYzHaDz22PeiSGdp0Um5WxH7rFJfQGTOyuFpYUscklMb3x165g/D04FT53PvKNxHMNBC44qzJA6RPks1gaTz9eEaqaeLe29eU1hlnuwL60Tamb/vIAqivr5IkDT42QLUD9+RJJC2rnNlMnKcEH8EMwsH7av25kAzgzcWjDeZh5gEZDQ2WdHeJ2nUfpIOpEL+nq0VnWzO0dbjtkUEmUBoTxC1Z1Ot2272eqJNmn+frgHDPr7W3j9L0qXd4lDTRTwBvatvCP5nEwgxSTTidFUnrUf10qnZBza6z+I0WXGE6p5UZ/HXY27E0KpeHO5FaSv9+3BBUXHv1GZzSCoAyN6egpWAC0nv0JJGc2P2i4g7rswrJherli6rT6hpIkPqV4J7h9IylCKTkpC45ezWkDqQBKfumoQV47hk1aFwfa868My4nKC6NsUJZnFr1x2U5H8GcSJLpJWME0dJW+vGRqG+2EvnOHIcUFOpygiQRI6jL8oze3VMunz/bkiehWz9d0NAzRpyg1uLtpMihnTj/V+vyaz3/1qEEfrfOJeRrep/v0WsNa/rG5NsDWpxlh4vkrLRP2QI3imB2KyFCFCqA/2zcpQzwa00J9akrG9iwF4aMloZwQzTzLfBEaPMshAYTkmysAPSs8Jb13Nvm6ULB09SrxIC82AII6AwKKMJxLBtAPkExvq+Sy0MGfeAuuD35pSdNqhUVAUMonp3fhT2WPTabYjI7zLB0px5p2TI9u8ATgZu55l9qPT24hzIIi/feTcPEc9fSIMxUwopf2phDQQSDhGpa2I0SVCYJILuCcx7hloAcYHL8KYK5zU2S33GT0cOBRrK9gYkkrnte6xdm+rN6m3hRRlppHoo3UR1fToAeKcEQjXoryXUhL1st38m3JreHVmY2mt2hEWnHmoztKlxXfZw67iRQf39dycRa8iRbX5IK6fQhm0yb4Mq4GBytfJzxG/ur3lMNRt5+nfuXWi9qIJDuj97Y+WB6dO71EtAKOvCwOQezlOieoDcOGRKbUxiSJ2R/NlH6TGn1VE388Lo6s13TdaCVB+ai/0ZwpUWeJmoWb0rHCBCKhyioDKJfPdITXolI6q20JlgVrWuvXawzHtlAMi/ys/2nTRviQ6TpW1I7T/atWkdkviLIFYcRlK4oyxXnKSG/6dvfKcE0iaCReZsoVCcnj2A60MSlIt7c026znhKovE7B1NGu5xyz5WbTs4jhtotcb6zoT+H0O8c9uN/XJmeTJIwJm3WLKPNWKhd0titkePGsowTQEYcXUwjN0PBVP+cFnDFbKWaEDXht9eCojwbHLK3xAI2LFATQl0QqJu8Z/yc/j03PvidqfY2DvGkYuD4nBQi6elZ4v7sdXmASSgT6K+3kE6V6DQ/PsGp/d7ash+TGer06LlwLRrIjcuifUdaIbj0bNEmSEpMHm5UrWD6+byeidfqfUiOw8/+pErbhuFJIvWMyAJvnCCLiOHa5WPuwUOel3dKIGmMk1Dpi5eUJ9Fu7p01CqprupJUeiBEOX/JrhgsO+Xj1+8Ldy/Pzy3P/2ksKJDKzkjk566BqzmuzL3XH+aZnHXj8c/GsyMxr4xHJHXFQS7i6QW2Abi1NPXkxAgv3KdlTdqewp7HTsDFZMa2z+mhV/FstrklAvH/rz/2mVi/nhjYC21xVQ+4a9oqAoieO6fDn4kIsf+NPx0PVMYr1MGQQEW6RhBx/F20CpqhSlnPPru3hfaAUOsjiEiaYJItPtFcaAj2Qt+t86/ZHikg5rFzPF7qlCBwSi3qHmfEjvu/HfUcrvW5V9ZTzhpnFPspr9tL2cf185lw/GRdya5iz12z5WRI2Xm5WCA8BGOdN87dKFzguihxfHsEwpCWzkDEtqkHDPR+IgC1u0/Bls8CSRAlqbrmPL0aga9MZ0cARKNDegSRGNDRzr8sDMTo35EEYiOyjxZRvbwY2VLgGb3ed2uRBgxWIpk9EKkXOG7HAVPcq3kxduu1sojvJdvuDmIx7iPP/dFUvyl2TPW6fTekESRS0nvna/8QNojUfI2dpcX0408gRXoVqT77n4ORtJyax8s4a4zlGxF1pq6YZxjAELcQRrRMHVBh7dUsAjEGh/301xPmdeE/rWHG/wgG056DorP8Fetvj47zkj2vu/GRcQnBSwW5ayvVLDgzbhoHYg5G+bl/HG28sx5SxEXOVoSriACDyU701plE9m6/yxigjvgXr3Luy7TTxFoOEkgFCzy3yMTj2yUQnoRoGdMhFRUCgg49T+vIVi0j9iun+NHoouUH500CmGy25rSQmec0xGWJbe81H4tc3clvjq7aeOfoigK8Gg705EXSZb0NTMa5FjPiHkDArXUxG5cNDxWsqA6IonYj+erorga5PXfxjgdD5VKktXTng0H0C534VGs2ptUnGxrEVt4VB9eM1/32V/8uDu254aZq2COKjyzeMVpbJLOOibil+afU4R0zTpIc0VODeOo4DbjWzaut26YZkNzhsXziB5O4CWcIV+uscmoIDYmVClinzAJYuuvhSFkhndl39n/NrZXJRiOJ22thG2cJ6Sr/ilRKhoEZOP4aM/Ws9p3UbLa2+ak0ZN/o8YtB9eMDCxDINLwTFWvI6EnAtbhzBXvS8NaZG9dF4Vm1l4mINu+jS3YMdtWwgL3nadWh5yMo1N+LG1lozZptLOnGq6GbCSQl8dgTaR+1v0XwszY7gR0iHhCEXjZt6ICelruHvTFGMLXW3NSXrTka6sTQgZktTNzZ5XmIrE0pp3ZyXtQjz7419U6I/N6L15T73xq9+2PXFfV1/+iDV2wM6cW2qsG5qvbKfZP6bv3ZEXd89m8DAbeenCPeSIm/44txHVLjzBAPwiO2PmUogdqTh9bQFjAIqpU9QMBqZ/QZ0wLW3Kja7Z5kabFyA16t/vmAqxrT6ztG1tLqO0LdR2jtSVgtLGoPK1kI3gmBnEvCGr1v/W2vBFFAdCoOjku90/OIK5C+DmEgWzZK6J/jKOfkILg8SQFpEKENSsRhl/A+Ldlx/0imbyYDEtvsMQmTns/da2FTPAPzWSg1GlHgeBALp9IWCPIsFImuruyKvJwNCNDpwdSsFfvnOrQMAUL3G2Nux5mQXVz661SmaDCx66HRz7/3omiHRKJST65Yf9uUE8ScBGdvfX76+eJB/sr1UlfREiDETTc2NTZrfTBFzpRthbjsQWTididCebeyZTbc5RvujMK49vsWJs35Tg93bkmwRtbKGDGtNUVtgxup5mchX/sbarexLtrB6G08MrPg7RKIDYOk/fUWBPrWHn0l1Cb9fNkb1+9+aOqeXHiTiaZhZeCovU9adD274U2nJ5wJ164N2/3Ib9WsXkg4NvSoGxIjER81ArJcuuaW2ifXgj7+/Un6dDgYnNHdGc26rnCnZgCqB+ke/TXjt6YZu6H7i6Kr/CPycXOqpnG3HrOESE0vBEs9GsocCDf0QBlAQJmHHmgfW7p79IFL1xSJdeu4ydqXgpP3pxebbx+38ZnEcJJU//4+fck8SRWB4NZDBCnTU9ZCeCu33BuSXIqMa5wxvd2a9uSxl+rRgf1zEjA/uMWuwWylqmi6LlnU+k9Sj047S/61yH6W0yWmFCrWuRx++XYJxCEyPSK14AgxUW0RTFxXygPO0d+XUFPx54pfqr9/uhsKaUQ12z2jhNNCMWD9D2mJ/3C1nq7qBO7F53/BsrmYCOLSDZCjQpSbdEmDVa0GbsSo7N/VQpvekLD34RrQys8RUylSi+ToUyBam8xvIFZEqE87FPOfgqDyWTGPsu7X7/nkhPFRMxAviclVra0PCUJlhbQfvmpL2DtaHnFyXLx8/2hH4yCwLvPdxWcqA2m8cVoaWZ/+vPohF3GCqHUr5ezfNVs/UdQ6h978VRwoJIiI6bUdIIF3J45JeyftensX0E7aNkiAZyvd2nmiGNW47n117ljLIJC2Nc0seLsE0nOhHqrRXycXPvAyGBwvFmtgkltPfSXEXnuN2mXy+VlqNhWNWIdouMOeIjUmKk55LlGLeyNI6SMWR/4QggPO7r545eHYpEzZdvTZjvucxf7N0UWOAaAXl/WgIy/Z+dCCGcYgmkp0SEJaDTEQHQ37a9Wt+8fBsUm6PlmRNFFBp//VhTfcFHOiqrlfNnUQ+EPVHsDtL1p922j98deDON57wfKwfX72Vy4I4nj/xavKev3ZRHKbG03g2IBaCzJFnx2lZqSqyNOaQ3SBb9zhLXCkpLePisdljEjYYvWcwGOTsIOAaRv0pH4LNGr2Ye+WbLsnNJKp9klUtt0Pz1trx2TnvlH10ADcSI9kMpxFkKYXn0PwdglkPseZBhvYn+lhEou331+4/JPBMSb9sk5z2U7bMxa2bkz1X1NxcGpGvJpkLt8IHlInisjWaobBJ7ClaRrCyuhuG0xkDBLtNxcCg4yMQpyljXfk4nEnesf51+w4a802Na79jGh5U9prkiD7jorAGKhebbO5HhCgri1DrT0BxL3+pifje+7vqzefLMb53lApBEEvvGH/6PxiGFM5Ly4SJpp5P/a9Wp9TVFdSDKFHodQUgTo+7o8nau1Qn13P4oWMnK0BJ0cemdE7WuydLv/5meeOdyr3bagbSbrjESk3vfvnOVZOKz2uTQiHfi+AvPeROo9FuGS/UUPwdgkkyygXgogxjHVwELZCWeiaTets8T8MTucwyN4w78VtnD9eDG+LEacVdVKI+1P/LYjpvZCfLgoh23yeTMHIHlmIhS/e/YkwODLPB9ckDqbtKB9+JgkOgXe2KpX/ew+XvWgrCDEM3BUHXUgi47hUKvbSzU/8YEqqVntDTKvaXGJT1EK5Veb2kWt3R/HRh6/eGgb6ioOfDiKxJpesvjV+g8NWw33s2brXOTJfnIDPqcf3Ne+Yk0zjvKbWJRlXXtvz4K+Hx9N10grjw+iow72tCaiY4kf2o/8OWEcpQDJEWnd0AgeDd/VeyrnnfzOkEdVuEYTysv6mHt4+gSjfnJ8D1ANqZzhTr+jHkKaegVc7cFOVri3GlUUxVtw8otVdeSrVjArEaMXNHYLS6rZrjrwYB8NfuuZoPJc71v0bi/jnPqQLy4iVLk2s0+ttko2PVqFFYqXawfWZlYgXXL8vdHpj403q55fgnWyB9lovLSYEUt7D82ZdUqXoc5mopWIb0iWoGjgiRKWGUE3MSxAVsRyc995fD6bj/7XFFtOjmMfswqJ/c32SKAhYyr2CpA9eviFSQNpnzALShH2E0envlWW/7T32B3FOsm1Pt0dyW+P5KnYPIupc80P5cxhCnmY8BKfe0HjvVKTaXLnheMRWSKc2SGovrO8imyxq2z+kh7dLIO7vvQ6zgBgVC8HdU/JInJOeIqFMr6rodFi4NURhv6w9Ug2rBJyrfR+EXXPoudGmImK3FUSHEIrzbd55l68f/d8fvCJqm/Vwcr46wiAJ3v3RJRHQE2yTaIkzex5iUxYsh4oR55xFXJhhSjVQuzIUxGyhT9zEXW9vYh32ApNgn4jDtNnCNfbwZhAOaURV4oXKYqE1ZT36yDruPqRyIXZRc/8vv+nxCACuPvJSeKQ+eMWGkJLmJ1v2mi13l+e8GQykf84s6JGTzdbfAxC1/SY9ZBf33y8Ip2tTCk6W1be8PNU6de+j348y2yHpw/OlZ3Or8qpHl0Hu+DeRf/ty3e5Pxr1hpFM9+gf18E4IpL+2EIgg115UFcl7vzbErPUQlaMiKmoHounP2Eigh0rR5ndP5FW7zlsjv+fqTScCUejefP1sH6KVka5xHIJ1DILaC1F1R1kjRIgMcbwfB6OWDcUhejDO1lj0P1UGE6COpCs0v6Nj89u3z2gTF8WwNtz+hcLdnwzibe/jsWvzoBKMkwqjA71OKhITMyVHQPH8xbuCo64ptto1xR5Mj44S1qGYyhD0HU3sg5hQpKOXOSII6hGAjDh1aDGdJFgI+vZUXLK9I2CT5hnj/zGxiMGMvXN9KW8LcJDRLrhY3bz/P6hY+8YdDM8VGHm4YR6D3BPIUFo1HRKC8kgMFdSsPii/qXIRUufyNbfG/VQovn+HO4pr8Ej9wvsvjz67Toe6YsOdo49du6vo488VRHFq1DOjqzaeCMnCOYBI2Rw5LtCmWc8C0qbvykKUU2m4HM2hP+m2dxHXBs4/mCAru43qZv1anZxTI+/xl3rIpuodI96J8GX3Uo/k3EE8CCXnLRMEHTzj+Tj1rc8Pe6Qm7+6SXWtziTdGOpckg7B3rQ2A23M9U49w7oTMCfQ/lTT/J02pjzQF5c+eIam0PW6i9c62xGQMs3LLAEdN4lPUpDuQxd8eiBseLv9nu83+nh7UEvgr6NReR+EfvnLT6MqCnFcVvW8WLL/5mYJE3wqkyYmDWZ42/m3c3Hv7AiaI7He4MpuDygGhzrtsfRjel6+/Y3R+MU7Pu3RNcNNrtt07umLz3UFAuJrnOgPkI0t2hisxxPhphmrtGt++a1Z9Rg8SIvN/OrjxU18yXZ8t1ropo2y3q+eQVuHMxf7ZWb/vfwjODqBXSwRUDandUf8bwEkD2AaZAg6p+07okifjFOByb7xrwE0dz/ukg2FrVSXd3v5jKL0K2IN17ZMbrU++hz2arveITxXphzmtKDiT9kwwq0KM3onYSQprwSaj4vKMeo60of79CeKC7D8euwVzsbj32mj4ueihrVuuh7cjhVCwNBFqiYGaYH9PAt/5VZtOTtq94Hi4GDUiI9Vrb/lMnCilEGjT8deiQGr90eq+lAn8s+/6YJwORXJdtvZYECjJYT7RROHNn4ZrlE4Pifp2NH2cYxZIdbG5VMI2R8mmyHXCZdv7EUhvy4VnaPfDk5qRBIiE8G8b2zUQ46KVt8yLdPeAefDM+X86C2Ea8ixzgPmQLrm+PZAOCEx2AIcChD0X/KFKt+Ntq0q3Op24WYu2gYf121u0FuuakiOag4wTPjHPc9kjxC2r4Maxyj6TQIjj7BCRQCfnITnYBYISIM9CeUdvh0BasBnXFMSGEBD6ltaN+Vb1nEBsEijy+QuSXVcQ3JHCuKhxpY4uxZpdopb6o9fuHv3Xd39s9HPvviC4TpSc7n96dMW620YfuHTt6MJiq5A+/PTrb/981ClQVXjSIuZyd20/mq7Uftw96N7iN+/64JWDLkaGvrqW9hrvneQ9Zw1SE210tAoKN/gfzPOE2WB2CkKjrnF34viz4jSCpRwVux+sZx5iSrMkA1tCBnR+vmHf05GHZc2pOkOViwmIo/fEDQHnhGKzPFW3VY0QXOtKt69DhriA6YnXq4rknaRyBBEX8GxFBkbBDSq49cqGfkEgPAFTvvO3qisu2jEO5MoceuYPAmnaBDVAbPVlsi28UwIBrX6NgxKdugdGrfmYM3m3hEPqVh4MT+Wo6e8vjBMIa1sfMQxFWL/w3gtGv3T+4lAhET4D/uffd0nEAN570cqiXu2aOAbEEC5zpmGjJoXdUMTxlUWF6Dl9fm+TzN16ZoO3jEtMz/H786Ly+tv6vbhMLbX98tT7o66i4foSNXne4rSslUfiOAWE4p49TQqO6Lyz7Ptjn6VgLCRxlmz/REjP1mA3R96oqDUpDLQG4mrza++4dsd99fuiOven2UbZdUFICZqMd9F4+1T7Nr8cjSVkJpu/7/u+x33nG2C/stezMdTThH8aDpr+XgxHw7l+P0hixLlIvo72+KgzFmaM9HTQ6296aqLz9bC9/KZ3D2+5660woIaICrQEYsBSQirM3pCETEzrIVr4Ny4+QL0Sua1Hgf3paP8TOoV/MyKkzlxHLNftfSL08l/6yPWB9DqDXLDs5mKgnwgvFtWSZ2t7kUKIjt6adR2Hnu4ivm9VjxLPGA5ng92LgAUUh+JBPEdKP9trfpvesKhYFCBs8uQY3iL6vU1ij4xT4l976OlBB4s6cHQcod5xX/2OlB/Mvyt7v3jH/aOFMpZJT27SNrOgBd4uDhBcvL1O8tjzHqG5tREpRGWjOApOYJHLOTq2FEl//tVbRlduvCPup263UpNUbXvxJmAIuZap9ruWxnckKRbGKmiovqTNH+P9c24mPF6UQUKin2Wvy4nN23Tn7GIdcKAs/qQHUQPEcy/2ExAIwAEFiqg0gA/+bMewDREIRISUVdWY3nAbKHlNwNK76MBRRVg26dpigPN8uY+d9a4PXTP6+HV7wj75T//5v45++SNLRx++ZkcU+wTnKWsCeREXxLI2aRQmcXtfVBcWsc9W6SXyEEAWak3e6115QitER6Q4a/sbknuoobXN911/PUHGsbQLXrg+mTABQkG41q5wLc+ppDHogwuBuYL73wNxpqHOM6kqxUGx5Xv2Yi0n+LOyXidGy4qhDReosRG0KyooiRnlCSLnalrGa02FJGk5KxAsO2PIy8kzx+GD+cMV4xe7su5t5rXvshsMCE2k/ObqzafmbBATzlplE+z7mw7BUEGUfCCJZv11sJCK1fvOE6RPgKE0DoRsrIgaEWRaASKlZggEEp+uxYlRZXMk7dGzISGVEGG+52PXjX7uPRdF2e17Llg++qUPXR3BRB6UC5cfCOmQ74RcOHMEB4tqJcjIddu7YyH43rI+bW3FEJDgAqHygkiCLIGNZ3Tu0gS24S3PzXFwyJQVlUOAABWKJeH130MIUoWB7AwR1yCjQK24wZZTXwlpxiu0qjAzJbYXl3XxzN6WotrMy316aw5XahD26ajYpPJo1GGPLlpzZ9iG1EljJOU5R+CLar+o0T/+ekgmyZgXLj8UhMqRsuXO10OVkqbe46TeZYhcc0FEpu9Bv1bRJGS85ogoz0SBrxMCUf+wkAdqCHp/NwgueKIe7zx3rSYMWohZBJLJbP31PjM0n9ceMhrN2orUiq7q8f1PI31k+b6ngvu7pj8UZJSpSay7R03AB6/cVIz1G0OC/OwvfbjYHatGv/Crl9RAVCFaDeF6adB3P6HCbCxrJzqrQs3C2lD3Ld5690zjlPcNQURE+VRtRXP52tsiAdP3h57Rd3f4t9RiSIyYIGr/fYKSgKFukrXBxFuFsF8fXVU4ZRYMSd13nqP0nrYORTkxJmrteQcRBjtk+z1fC0ktf4nEw82HKggn+1h+TxtAlFl0BThRlM5KVr1oxaGYN3tn4x1fDC+j37EllAZzBhwuDOKqTXdFmvueR783SVx0DrrxJP7JEvBuDh7P54Hszx6x19Q5zJObue1IMyEQR+D2kzobtB6GFhizgnA23yZAlDjmrIitvtVNC/sf+63gAJ6LE4E8EUoKdnauWHfstYhVbDxRg0U4L4SJ02+LmmERrt/zWEiWy9fdNi47/XaoIdff+HBwEGL+ys13x9nmUtt/7lc+El4r0XQ14Qc/9QfV/VkkEcO17dInt6hNK1l77HNhHzDsWuOVdBLEk9ohfaSNtjuosz85VtSa9MN4jBlCcjlTqXrnB+LilZlZFNU8MxvQQRRcNGpP7jo9mUPL6Kh80Q2mMKA2GwJH7TtdJkT8YnxQK6Ltm0aAtm4EgfA+bW66LtIQrBepzp3sffBGiQOOjpioQeH+P/65UK2iNp5B3kXFqWr7n/z9+D0tgI1Cyly58UTs/bmeNQ8mBNJHrs8F+iZfZ4Mo6m9sCZyAe9QE1aZLR3CdlJGqDNlsKqSpnphvh17qgMkUkwqP9MltXYyMY8+0UTgawpFzBKm0FeL1Is0EmKTZvP+y9aP3Xrhy9CsfuTbOn3jfxaujs8r512wbLdn1SDxzexdz0MLS36g3GQcojTG/p8f33J8UVUaMaHh2erdoW/YJ0ayvREmIs73MuZaJngnXLOJaUgg52mYWGMpsZfRSCdVDQG5McChdhJoz5CiBlEmYbDgSokf8hGrf1e9oIlQhXqt8H/xCFCn9P7Z0z1RfLsCuZR/639glI1K1SIpLVh0JJ4uApmo/84qOj0XaIYQNRf2KBtmFiJy/Hu8r+EQqG0skTRbCEywmmTDbaAJRfmOeCZGpUNYSIxESmBCIFGg/xmUZvHRsG6QGYd8Tvzu1MI6wgsS8OwcHjOdZ0BOI9931+v8IDuQzm0L6O1sIB7UpEJ3uTPJY0JWHXwqp0nYsOfxsbb3Tv08CmrGa8CWrDo+WFenAM3dpUWNwX8+y2P/7f/mFQiQbRr/0wauiLuFdH1oyPnKhdvbwLMhlDbJ/0u6oCDxTCGyOexnDxH4Y0PVBpJaEe/VL42TC2kBaqonCrVwLm90js3Xg3UlJ2kJIhYKYAmuIZ/cD346M53yeOMcs5CZBhuIJuLUsi/xMWsdJYPfMt3dI26xgzD2GI3T/auh/N4xjWkRW8vXJm2wXCCpLQOzH/YJ2MhzYG5kVHBngZW7hjXtIO9i5dYK/bUbFUM1IZkHsKus0pMInYE4TAvGS3qawQF7GjRop6WXxeR4gAtWFyOqPI4A8NpwhrGtFUiW9DwdtCSS6GjYGnQiwjNtd5RmIlC7ee8SMc0itIEZ5N9rFghzGcfHKg8Hhrtp6X3CWagA+F/r5r168ZvSejy8bLVq0qNgjW0b/9d0fjyO+1h19pWzMfWGgM+DMq57aNKe/IpI2AMfIhRTSx+npeV3fpn68jjFuS4gZpO3Ydz843xNo7EOxlgS2GK/NkDTw7HDlDxDJULkDQud4GLIZM6bUXmuZXxtMBPaxb5QnfX7r3RVRGdL2Wao/I35V4fqKx46/8jexB1cXFZgUcZ4HyZ1eNtqB+hJ2Xz4XU20PRIVH/RyivmV8baHMATAhELq/joX9DUMgJUKL/mgV03ms0ovQdt0mhagJAMIiRJTde67kDSmESiQYbmJ2JozK1bd8Jp7XIpVFxnVwsuh8XiQNbrXu2KvxPW+MxcOBxTi4Y3/5w1ePfv7dHx39/K9eEQT/4Wv3RJo3hiDOg9uAJcXYbovAjKNP8qTvsi1aXd0YBcv6eQBrlUfBkZAMddd4Zrico+nc+PxI9yhdHUJw4B5ETbIOuTzzHdnYooUeea1pDQTPJzTQe4oAhEsOv7/7noHcR7GloEBm0khyYBxI+qqMX4f+/KRw7x+Nrr3x0ZC2JAXVKZrpde5lNpP19lvjFvdpv0e0bFmVjFQs2oeUovy+xdMhmBBIqEyFw5AQDE5GULSVKdzfS3Z+4sshQbTD5Au/YtOp0RXFUE6DLKKkRcfPeMSQTx6XwR36628HGJzpVdIBHiKnaJdlaqyRMtFUHEJcSINrUT/Ou3xD2As/84vnFXujSJBif/yX8n+ck36wNo7GIZfufjTmj/CIfOkp6RFiVA6lb4gktwhERXQfJOF8aKUGaJlENdC/FuoK/XlxUS3y/XRvaxqZtoXASQl7Rg1IJwSJv//JH8a6DHFGxOpZbVMI6gxPX6qGjGJMZVaOFVAI1aeWA148qhoViOZRo/zfiTnKjM77thbVMhkDDyBiEV+yRhwDiIJaRo1CpNRV6igVm6u5zdyWkq7zCQl/0bL9U6qi+6y/+ViTZKZwNIOLPZNuwbPm5WJBYlR67Y57JzlXTlQF+T3iyfstFITElSEn7xUkZkD2oq23Qd4J9I21vSNrNNoorX5KEs5IOI4A3A33vGTVLaP3X7o2ah2oUj/7yx8b/Yf/9T+Ofua/fSCk2zVbazavszZwruh2Px4z78finQ/FpvaJggmQOONJkJYa0Hqg5HzVmM6ZIBzOgERO9lCfa5T/t9kCpIS4D6Tr4y8JNWo8rdrlMQKV6LKGvHJQXi3GbD0f8nS4yVtVBWCE1LGrt9wTAVic27MwlqUFX9hIPgME4vdVzX051G527WUbToQ0ELSknov+8/IhUoVLUmU8l3FNupgnxkxF1rYn69bZlew43kFtXr1TtrFG1ZP53l97FNuD3p5LSYThIVDOGmuGAXk2V7X1nyIQD7GBqV/eXLiRDegX6mwwiyrfCYFYtPzfBrURTxAbdHPtLrKtS0FfXkSyzfQ/n76NXLLz4dF7PrY06j5+5r+9f/Sf/vPPj5bsenT0gcs3hupmfMdfqUe/kU6XbzwZbl76vVQNquX5i3dODL0WEBQkE+Xlao6cqyK5RG2npMqDv14I48ngotY640+8WrrXZ3pP36iiBxx6VloIxMQw2qj2tiYlH9Kx/9LVjIO36ejRcbAwAQiKgHmwaBg8O2xLEixtVlKpR8AWSGRMFEcmCeqx3FVV5AR4z0VrIvdNANH62geqrviHWhWEwuHCHb/61s9GbQ5VKd/Jo0Xy0GyowRg09TxTa8RsskP8ZP5j5mP9e1UZeLaA5CIVaxAhUijumDZyq0E87I1ZCJKD9nA2AvE+m5Zi0sDbE4pwbhymjd5uOSnX6EeFe706ZSNAaFINJ5SIGCeoFi717mKQqxK8aPmB0XnFhnr/ZZtGv/iBy4ODMYIVWWVEHrfC+Vq9X+GQTWankBCQhBHvt9lYwfU2hy1PMZrVlQQCiT1sKzaITF2qhNQVc+vvTagetS+PFGH137VgfCQHws14CEA4H7hkVTANXNR7b9ivs2Kt89YCiESNBtK3vhwB1va5JJ3fUMkW2ldqjvwsEsN4BWc/cNn6kN7UTfOWspS/54bnsNj/+O+MPrp0z+gXP3RtqFW8Z7UF0NciiPn/NXZvPXZWZRzA5yOYeIgGqmilLdDRlqk92HZS2k6n7dATPaX2wNBCi5QCIlRNqFhQpHhBTBTDBQY0wUiMxuCFUe+88cKYeOPX2a7fs/Yzs/aaty0XK+3sw7vX4Tn8n+PK54Ni5qkfwNGozvxnxFKiFqTYHq7OuPLW3wIit/PS4yyb1qGRtjWpvZWLZV1Tt+tpSkLwvd/OKLzTGPKKGP1Gik9gznp973+DGAUWGXQkTgQAG2bjNdKPFs7PMuF6jW915bU3xma5qSIva1CwgynAmq9uOjjasPtb0ThtZt/jUScSB1h+n6Rn3Cv4Ij2fbrqM0AjSu2kKksdvgyP+nS0Gv0s9QRZthxQ9wdBUPmK39iG7wKDWCYdoyFzgIqIHVfc/8Xo0uGMnsBtoS/OPzi2FqVqJP+TQyMGp0hY/2Q+4/AtrthVYdyP6icHxAcsKs8PrmS4Er3OF9lm/GI8gIMBqTlztwN5+xjllqa6aec/WeyBd8qAM4vZ/Zy3VPwz3cg4yrtXcq/TkvdpZGNf+g9Jtmj+hJ+0GI7qtTOKh/VYNyfmA+cXOwL9ey/E2RhykMBQ7x7wSDvNWooMVNoiB40iO3pX3SQfOJE2/3UgsIxmE+64e+DLswCikEijE1ZsTJflqTOTPQbBpoGcCXRtv0IPVIXuu58GZidEj/6oc5r7HbxbmOB8STK8pcQ8bQUXztffw0CH6DZudzE1dY1QpCebqPcSq6EjvrZm584HBlQXEM4oNxH3ZPrcdGMR6ErLQhEO35zoPGkygK27LKob8Y2Xu4bp+uiZSusjSWkOLFbvlsBurLtWu7rIM7Me+QnDKiqd3Ho95YWgSdKiu3wBrlR63xrHfEti0NhqHUNP0gqZcir006fUIlLDjNtcFJiW2MEDGtOyhNCB2WU0g/PXo3rVbooewjiuK2GiH9duPhV0jPYQwdo7Wy71Mg9B+kVoyhlU+ix7b9WXeV/5NmMW143FHzHiN5dlTUTU4rvvNERfYlE12CP2IjuzhmVj5Xg7uyEjruPCjUJf5utdAmdulqJBAqsb61w1GdutSRhQ2cyjvxzj2bL0eGDHzleclL1y+G4oN4f81B+o3kVTIM+SeiN7laUh7ZqCLv2TcBtSzHjcz5ecSm58OSPFuuBajq2CRfGmzWCPpRzJj/CC0criyTNvfBDVa494APQUKBbg4UPKG4ox7kK7a9MRnC/P0qSFpb4S3rGgq5cZxj+M4loVICMf2O+ZL0/Y9dDGF9xAZwUajkcYMYpoj+gU0wdvcV9kSJDlniH3AsAiYECLAELvUdue27ci10ap120LwPLD1cNHS34veZw/tOBHnL1DNMxc5bVrY3qphhGhl+7LrNf4X2iS9duxBe8WpQ9u06yEgMSgmzlwt9uDUgUu3VhwEohtyYeaDeu9U/90WSvT3lmOOvj9UDgvoazty9EFMw+E8Om6JD4uyGVLKPVkORECLVkjXM/fjwpVik5QDNA/Sx4aK6DoEEC0ySBvNyUvXMvRJyXhv1bvWEUgbFPM34jBXv5sxh3ChF0KUFwUyDdXY9JpLjlHaVEmIeajgEGKsr38cvwNT04RbDj4VNTb98w0S31oUJbFBEEQrYDBgPw+/wdHRRqfZaG3mAmjIIVKZf1xbP7b50l5sBY80dIIFscrb27JwJWjGvjlD2gZD2MMvPrA1bBSZvxiV0J2ePRWa3bPYlqCb79uHTHi1ttkT341qyfxdc47g58D+gOwJETkL7OueczeLDVJUksNrP9ynA08+6M4M0tcdS2HpI9/w8FDbx6G7PwwTn7/4ZsCsvhO998AHhpZnkiq1xLRepeAzoBEpqePFxrmLUethE7h7qWxGceJ5+0GigQKkT0sIoIMDlQwHUkRHEyXARbrm5mIeqdxyrUCEFBbyvlpt04++/b7hHNwdiXBagYUozMPr6QFDpA6ethq6/thgp+hdy1DO1yLvrUhMEM96SO6+3kRe3N7zmsnVNSrYkv6RhWORulMMecijdcP7vIYR7LGaav/7gIKgmIg4yMyBwMvHrWuv5gu8eibS02+Eoc3tDA7RUtor3T+zL+xDDLdYBJx9gSR4sMSPOGDAttq3972JREba/3YdP83Bd0CxLBvnRZtiZEr1lswnXRzx3smtezcGefLNv0/c6UBaknbtZ6jYoU597eQmnsluGUMkRlgeVDsuNBFR70vf5zXpP1sx6qtxmBhA4VT/m8GQiz9egh5qyR2w5znE6u2r7meSnTtc15O8jjoykW/8YbT3wuvB1Coto8fVAHzLYV2tS5bkjbLicY/YdrQFT8cL0bRrBOswm1QNNT2YxnAOe86+GrDMXGhO2sS6RKhbzY0Yz91QovvH8NB5vq6T6vy9D7JAHTS07/uXHcH+ICxabUNocXnzlvoOyJl75/NiNZG1fPjqGBK/HzBR58Nst0SbrNt8MDKbtYv1/szcYnSiifmUc+I5lf7ENet8pmdPhyt4phj6OkRmt8Y+87fetPteQM0U2hwSNBmtOIXg73toezHYTgVj9BmW/bgbgyD+vA+DRLqdvVHrOSYZp28GlsPh5P8tok8TN3ric/cIDcH2MWeJgFkoRRK1MIQLMzE2YkAYCJ9WwhBG6wGhbdL7YsgAZuzymKSKf6HAlfMyQm+6evo/oYn6m54m5/vv+G7NXP7tCqiTw1yScWkr2qwWfi1rBYEvHsENu87UGpXr7wdhTNhwnbaW5tK7oa1TyguJbc8PFK1LSFx6469BA+nWJsVrrt5Hsa9Sa7IfWTvAorbHsHXwZNLG4B1X7jeLNpK1SzvytD12DWz6KMp8rQvU8hmMQxsYGM51DezJTfMXCxQ7G13qP33PmrgI9kARggtX3g4acXuvPY4OlWWPD41LFKzHqEVr7lD/SwQhw4tFLc/seyKuJSNd+/yqdtyNQYw8XMElrsrW/94OhfIthh9iEFBCn9z2NXCCAZq1JRFNb2wURLhm03y4ch/cdjS6b2Asto858ewoZHIIZ37wu4BEJAbJqvgoalherk3Ibtc0OnrxPl8jxy2sJGQiEe96Laft1yL63e+f+ZKmoB1jF/zIVIx2uBk4ISZvVdtJBQTNbiSYBqGyxzBKf/2YIZLeMyGXbPv3y4Vw+rtKnCeC6s9KHQ3YqizZZasBgcp3ay16FQrsOXPL6r35Yk9EWnn5HCG18ZEzAa10ltFDDaHrC7x+58nRtsPXRjP7r4T94Xc27F0czT3x05FCLakpYLRKUIJIXc6jxda8XKBiaJJyTqk5MCKXcTYJ971aN1KHIKX5CtpqDRUM4sOquKgoxEzqyWXyMI1+2w36JAzSVoqFii1cPnRIRhzg2ElgYm1g0Otx/5y8nOuKZ5Z/l6HI6JUpygPVFvcYebDiGAwzGwf7UsViHzaMpCK9so/A3uIAAAa0SURBVHLO/0nM1v0nDWIoOQ+MDFw80K+LBEIEPFcOvjXKEYRy4PQ8WTNC7ctUSeyoZWkaEqQtd/nWcj5aDi5cTGG9oQHHxB9XIow7fPQDtGh/t9/DjCG1r7HN2A6ECCiiZj7c8GVElWE5l0dOX1+ad9h0Y3vAOsE5dMaZwaFgjaGdClNoAfuNogFoAcR+Lw9Wgf47T7wUGsT9hWp09Arg8tV0g40jZ6264+v+OGOVoiCaeUUH+iYc0AuGdhCUmbFtv6eoGlcKO0xlqQjE5qt/sAmgA+Jk9IpkW0jLIFnSSbIltuw3OjanqetuhwPw/Pz7UJGeNj7vVc/XcbTUi+cGvGtgE2zbvjZ3/kY9mKIJeK4wm4OTriAGwgBOzcbzwgPCziEZW8PcACHSxlHiqfw0m0zUFPRlIooLYRrN0a4BUywULW0uBIPXuHmHajFy5LNca8D1ax5yjvq2/ubAA5exmnoZUT0Pc8hgao5o1TOGTtVV+49g5qx6DJf/QBoL7UH7tn10CUEBvvzbWfVZwxwWns+IjkBwWT8DHGLRiPzLX9sVxWliHLpaYqIHivafLtpDyEGXS11neKbUiBy89EY8lxZbX7QEt7H+AQQqDQ5BrN28EIFQAmOiLWtZM4/l0L7bx8waoMmnMEaNMP9rtOPYd6IT91CekYnIkxEIaxmEulP0FI2JC/GIJEsnbqO87kHsn9cOBJg+fVqCN4LUGHLHWdyQl0Y3bxHf8P8XjeEa4db4PvbsL8PwXr1hdxBom22MgFqC6/N2DDBUg4a+fWcYns8tZ7ee++GfJmpGzJcXJ+JL1/XFqoRkrgz67DEVVxKX+To0kpuhy+OUBO91NdUgn3s82rashhZCLVHau9YgVcnojkbCC0OoR8n3Im5QmN7ZpfPE59vnt88Fk/Jv58wu6WtAek9oamHrtgZCS4KjiLlMBtWDu8f3M2JAkJ82uWftttqNvQi6jQVWgVRJK/ZGTMiaeCztmbXJ29q459xo1YM74vYsMSb7zFMH+lmr8+yvZctB6ENV7JspwZUljFi+5M2+ngDxZyfBHmI99sJkWruUgrwK2N+ghmhzP4l+WCwpSRplTXRfjLX0G1d/sWKO7gOhDaNVTnmPjVL96pXALJi0ylaWNirctGX0XVguF8kpEJeaJJL6ivaqzLBMHO2gQVUbtsa7YW/Vy4NZbJA04hFJpKAUWMILBLJ5tgbaEUi8KSVbmnwVVghMixzMj5l9pwZkq/EPGmC4NqYFdvVdRwgz10xzXrSv2zfPoAFrNsLKZhGYY/b0KxMBSK/52/cZtvk61NAKyWQQ/+pSA1HsLvDo4bnFkPLKIPYUA1rH/U37nxptmns8zkZpgk6Xa2bmR59fvTG8XcoO/C5th0HsKw0iS0LfMvXxtOOxwjTgVApaRndG7e0L4Z4ZGQZHjWf5v+8ZK1JN+uREsAAHt/CpZRAHuZR9WggSdyqzrHhUe/93lloI9Xi2HyRga/ghtv474eX5/of1IAshWbyNjLsCG1clY9nzqHHPMOeZYnSRUvEch338xYCTIIHPCBySTjQNhmU3IZRWo0ZDvXIQvXbzfYQ9FNDMQcJxFLAJJFj27xutJKZ9NLKwp5hM53sR/azVwMC8de33Mx9N7EK9vrT0fA8BkIqYKLvIcG/6DucAu5NAcd/G5kevBkxz3s+8Xd22tKSio/7y1BzhxSr74PnOIktzCYIsr+WZ4grmzr1W9nL/xVtBX0cKwzPKaY+H954PRlr99UfC5vD35740Hec5e+LFYp/MhlPA2R4qmmjd1qMR9b5v/c44O6kpbszav/jaRJKlilLQ0v6J3EdnmIa+ZFxAQZgrskCKeREMgoCPXPtVcNiQQXr2FffVVQzbM4hNiOYAZTOpzzSAPFOMJeEKrK2dTH+gOa7+XOLiZPYqj0gfGOTyTYPfv7tOvbR0S6nF1vrnj4tmezde31RUNfVLGj+4/UT4zBcu/ywkLybjymWDuX6anYWIFILl7/mN9Otzq2a39YMXfzLRO2zxNTUEw4STI3plheZYmWeVIxnEszVT0FaHkCEUvG6NCJumjUKscYugHNYl0JfuejZL1aYfxhz73wP9Uii6C13cIBu35Wd8TykvBMGozjiZc2e7cMqIGYBnx59/J+jAmC8EGpBq/LsEUVYdogt/r9t6JIgdk7iSmhHPDtm6cCVaEH3mnvtH0zuOR+yDx3H99qOjdZsPRBq8+B2v1qc+u2r0lWLDTM+eDM2l3dOGXacjYRGTg1zsRreMLd2G+8Fy6k0Oe5aCj2DE2P8HAJxBAtRmoBMAAAAASUVORK5CYII=' width='200' height='133' class=\"itemThumbnail\">\n",
       "                       </a>\n",
       "                    </div>\n",
       "\n",
       "                    <div class=\"item_right\"     style=\"float: none; width: auto; overflow: hidden;\">\n",
       "                        <a href='https://www.arcgis.com/home/item.html?id=76c1e20e31bd4264828c02a8d2690cb0' target='_blank'><b>2018 Texas Voting Districts</b>\n",
       "                        </a>\n",
       "                        <br/>Voting Tabulation Districts (VTDs) are created for the purpose of relating 2010 Census population data to Texas Legislative Council election data; inclusion in the RedAppl redistricting system and the TREAD mapping and report system of the Texas Legislative Council; also for cartograpy and spatial analysis.<img src='https://www.arcgis.com/home/js/jsapi/esri/css/images/item_type_icons/featureshosted16.png' style=\"vertical-align:middle;\">Feature Layer Collection by bchastain\n",
       "                        <br/>Last Modified: October 21, 2021\n",
       "                        <br/>0 comments, 83 views\n",
       "                    </div>\n",
       "                </div>\n",
       "                "
      ],
      "text/plain": [
       "<Item title:\"2018 Texas Voting Districts\" type:Feature Layer Collection owner:bchastain>"
      ]
     },
     "execution_count": 16,
     "metadata": {},
     "output_type": "execute_result"
    }
   ],
   "source": [
    "# Add layer by ID:\n",
    "voting_precincts = gis.content.get(\"76c1e20e31bd4264828c02a8d2690cb0\")\n",
    "voting_precincts"
   ]
  },
  {
   "cell_type": "code",
   "execution_count": 17,
   "metadata": {},
   "outputs": [],
   "source": [
    "m2.add_layer(voting_precincts)"
   ]
  },
  {
   "cell_type": "markdown",
   "metadata": {},
   "source": [
    "### Adding a Spatially-Enabled DataFrame"
   ]
  },
  {
   "cell_type": "markdown",
   "metadata": {},
   "source": [
    "There are many ways to bring in a variety of spatial datasets in as SEDFs:\n",
    "```Python\n",
    "    from arcgis.features import FeatureLayer\n",
    "    fl = FeatureLayer((\"https://services.arcgis.com/P3ePLMYs2RVChkJx/arcgis/rest/services/World_Cities/FeatureServer/0\"))\n",
    "    sdf1 = pd.DataFrame.spatial.from_layer(fl)\n",
    "    sdf2 = pd.DataFrame.spatial.from_featureclass(\"path/to/my_shapefile.shp\")\n",
    "    df_earthquakes = pd.read_csv(\"https://earthquake.usgs.gov/earthquakes/feed/v1.0/summary/all_hour.csv\")\n",
    "    sdf3 = pd.DataFrame.spatial.from_xy(df=df_earthquakes,\n",
    "                                        x_column=\"longitude\",\n",
    "                                        y_column=\"latitude\",\n",
    "                                        sr=4326)\n",
    "```"
   ]
  },
  {
   "cell_type": "code",
   "execution_count": 18,
   "metadata": {},
   "outputs": [
    {
     "data": {
      "text/html": [
       "<div class=\"item_container\" style=\"height: auto; overflow: hidden; border: 1px solid #cfcfcf; border-radius: 2px; background: #f6fafa; line-height: 1.21429em; padding: 10px;\">\n",
       "                    <div class=\"item_left\" style=\"width: 210px; float: left;\">\n",
       "                       <a href='https://www.arcgis.com/home/item.html?id=6996f03a1b364dbab4008d99380370ed' target='_blank'>\n",
       "                        <img src='data:image/png;base64,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' width='200' height='133' class=\"itemThumbnail\">\n",
       "                       </a>\n",
       "                    </div>\n",
       "\n",
       "                    <div class=\"item_right\"     style=\"float: none; width: auto; overflow: hidden;\">\n",
       "                        <a href='https://www.arcgis.com/home/item.html?id=6996f03a1b364dbab4008d99380370ed' target='_blank'><b>World Cities</b>\n",
       "                        </a>\n",
       "                        <br/>This world cities layer presents the locations of many cities of the world.<img src='https://www.arcgis.com/home/js/jsapi/esri/css/images/item_type_icons/featureshosted16.png' style=\"vertical-align:middle;\">Feature Layer Collection by esri_dm\n",
       "                        <br/>Last Modified: January 23, 2021\n",
       "                        <br/>0 comments, 985,537 views\n",
       "                    </div>\n",
       "                </div>\n",
       "                "
      ],
      "text/plain": [
       "<Item title:\"World Cities\" type:Feature Layer Collection owner:esri_dm>"
      ]
     },
     "execution_count": 18,
     "metadata": {},
     "output_type": "execute_result"
    }
   ],
   "source": [
    "item = gis.content.get(\"6996f03a1b364dbab4008d99380370ed\")\n",
    "item"
   ]
  },
  {
   "cell_type": "code",
   "execution_count": 19,
   "metadata": {},
   "outputs": [],
   "source": [
    "sdf = item.layers[0].query(as_df=True)"
   ]
  },
  {
   "cell_type": "code",
   "execution_count": 20,
   "metadata": {},
   "outputs": [
    {
     "data": {
      "text/html": [
       "<div>\n",
       "<style scoped>\n",
       "    .dataframe tbody tr th:only-of-type {\n",
       "        vertical-align: middle;\n",
       "    }\n",
       "\n",
       "    .dataframe tbody tr th {\n",
       "        vertical-align: top;\n",
       "    }\n",
       "\n",
       "    .dataframe thead th {\n",
       "        text-align: right;\n",
       "    }\n",
       "</style>\n",
       "<table border=\"1\" class=\"dataframe\">\n",
       "  <thead>\n",
       "    <tr style=\"text-align: right;\">\n",
       "      <th></th>\n",
       "      <th>ADMIN_NAME</th>\n",
       "      <th>CITY_NAME</th>\n",
       "      <th>CNTRY_NAME</th>\n",
       "      <th>FID</th>\n",
       "      <th>FIPS_CNTRY</th>\n",
       "      <th>GMI_ADMIN</th>\n",
       "      <th>LABEL_FLAG</th>\n",
       "      <th>OBJECTID</th>\n",
       "      <th>POP</th>\n",
       "      <th>POP_CLASS</th>\n",
       "      <th>POP_RANK</th>\n",
       "      <th>POP_SOURCE</th>\n",
       "      <th>PORT_ID</th>\n",
       "      <th>SHAPE</th>\n",
       "      <th>STATUS</th>\n",
       "    </tr>\n",
       "  </thead>\n",
       "  <tbody>\n",
       "    <tr>\n",
       "      <th>0</th>\n",
       "      <td>Mato Grosso</td>\n",
       "      <td>Cuiaba</td>\n",
       "      <td>Brazil</td>\n",
       "      <td>1</td>\n",
       "      <td>BR</td>\n",
       "      <td>BRA-MGR</td>\n",
       "      <td>0</td>\n",
       "      <td>1</td>\n",
       "      <td>540814</td>\n",
       "      <td>500,000 to 999,999</td>\n",
       "      <td>3</td>\n",
       "      <td>UN_Data_2010_2020</td>\n",
       "      <td>0</td>\n",
       "      <td>{\"x\": -6244244.606196575, \"y\": -1760180.180467...</td>\n",
       "      <td>Provincial capital</td>\n",
       "    </tr>\n",
       "    <tr>\n",
       "      <th>1</th>\n",
       "      <td>Distrito Federal</td>\n",
       "      <td>Brasilia</td>\n",
       "      <td>Brazil</td>\n",
       "      <td>2</td>\n",
       "      <td>BR</td>\n",
       "      <td>BRA-DFD</td>\n",
       "      <td>0</td>\n",
       "      <td>2</td>\n",
       "      <td>2481272</td>\n",
       "      <td>1,000,000 to 4,999,999</td>\n",
       "      <td>2</td>\n",
       "      <td>UN_Data_2010_2020</td>\n",
       "      <td>0</td>\n",
       "      <td>{\"x\": -5331952.879361959, \"y\": -1780660.510942...</td>\n",
       "      <td>National and provincial capital</td>\n",
       "    </tr>\n",
       "    <tr>\n",
       "      <th>2</th>\n",
       "      <td>Goias</td>\n",
       "      <td>Goiania</td>\n",
       "      <td>Brazil</td>\n",
       "      <td>3</td>\n",
       "      <td>BR</td>\n",
       "      <td>BRA-GOI</td>\n",
       "      <td>0</td>\n",
       "      <td>3</td>\n",
       "      <td>1297154</td>\n",
       "      <td>1,000,000 to 4,999,999</td>\n",
       "      <td>2</td>\n",
       "      <td>UN_Data_2010_2020</td>\n",
       "      <td>0</td>\n",
       "      <td>{\"x\": -5483041.697485695, \"y\": -1889069.697082...</td>\n",
       "      <td>Provincial capital</td>\n",
       "    </tr>\n",
       "    <tr>\n",
       "      <th>3</th>\n",
       "      <td>Mato Grosso do Sul</td>\n",
       "      <td>Campo Grande</td>\n",
       "      <td>Brazil</td>\n",
       "      <td>4</td>\n",
       "      <td>BR</td>\n",
       "      <td>BRA-MGD</td>\n",
       "      <td>0</td>\n",
       "      <td>4</td>\n",
       "      <td>776242</td>\n",
       "      <td>500,000 to 999,999</td>\n",
       "      <td>3</td>\n",
       "      <td>UN_Data_2010_2020</td>\n",
       "      <td>0</td>\n",
       "      <td>{\"x\": -6079824.825958446, \"y\": -2326534.951854...</td>\n",
       "      <td>Provincial capital</td>\n",
       "    </tr>\n",
       "    <tr>\n",
       "      <th>4</th>\n",
       "      <td>Amambay</td>\n",
       "      <td>Pedro Juan Caballero</td>\n",
       "      <td>Paraguay</td>\n",
       "      <td>5</td>\n",
       "      <td>PA</td>\n",
       "      <td>PRY-AMM</td>\n",
       "      <td>0</td>\n",
       "      <td>5</td>\n",
       "      <td>0</td>\n",
       "      <td></td>\n",
       "      <td>0</td>\n",
       "      <td></td>\n",
       "      <td>0</td>\n",
       "      <td>{\"x\": -6205838.7185380785, \"y\": -2575640.10590...</td>\n",
       "      <td>Provincial capital</td>\n",
       "    </tr>\n",
       "  </tbody>\n",
       "</table>\n",
       "</div>"
      ],
      "text/plain": [
       "           ADMIN_NAME             CITY_NAME CNTRY_NAME  FID FIPS_CNTRY  \\\n",
       "0         Mato Grosso                Cuiaba     Brazil    1         BR   \n",
       "1    Distrito Federal              Brasilia     Brazil    2         BR   \n",
       "2               Goias               Goiania     Brazil    3         BR   \n",
       "3  Mato Grosso do Sul          Campo Grande     Brazil    4         BR   \n",
       "4             Amambay  Pedro Juan Caballero   Paraguay    5         PA   \n",
       "\n",
       "  GMI_ADMIN  LABEL_FLAG  OBJECTID      POP               POP_CLASS  POP_RANK  \\\n",
       "0   BRA-MGR           0         1   540814      500,000 to 999,999         3   \n",
       "1   BRA-DFD           0         2  2481272  1,000,000 to 4,999,999         2   \n",
       "2   BRA-GOI           0         3  1297154  1,000,000 to 4,999,999         2   \n",
       "3   BRA-MGD           0         4   776242      500,000 to 999,999         3   \n",
       "4   PRY-AMM           0         5        0                                 0   \n",
       "\n",
       "          POP_SOURCE  PORT_ID  \\\n",
       "0  UN_Data_2010_2020        0   \n",
       "1  UN_Data_2010_2020        0   \n",
       "2  UN_Data_2010_2020        0   \n",
       "3  UN_Data_2010_2020        0   \n",
       "4                           0   \n",
       "\n",
       "                                               SHAPE  \\\n",
       "0  {\"x\": -6244244.606196575, \"y\": -1760180.180467...   \n",
       "1  {\"x\": -5331952.879361959, \"y\": -1780660.510942...   \n",
       "2  {\"x\": -5483041.697485695, \"y\": -1889069.697082...   \n",
       "3  {\"x\": -6079824.825958446, \"y\": -2326534.951854...   \n",
       "4  {\"x\": -6205838.7185380785, \"y\": -2575640.10590...   \n",
       "\n",
       "                            STATUS  \n",
       "0               Provincial capital  \n",
       "1  National and provincial capital  \n",
       "2               Provincial capital  \n",
       "3               Provincial capital  \n",
       "4               Provincial capital  "
      ]
     },
     "execution_count": 20,
     "metadata": {},
     "output_type": "execute_result"
    }
   ],
   "source": [
    "sdf.head()"
   ]
  },
  {
   "cell_type": "code",
   "execution_count": 21,
   "metadata": {},
   "outputs": [
    {
     "data": {
      "application/vnd.jupyter.widget-view+json": {
       "model_id": "dfc3c1daab8849f6bf9c8bb4d2c430ca",
       "version_major": 2,
       "version_minor": 0
      },
      "text/plain": [
       "MapView(layout=Layout(height='400px', width='100%'))"
      ]
     },
     "metadata": {},
     "output_type": "display_data"
    },
    {
     "data": {
      "text/html": [
       "<div class=\"map-static-img-preview-7b2e17e2-ca7f-43c5-adf3-72eddc6305c5\"><img src=\"\"></img></div>"
      ],
      "text/plain": [
       "<IPython.core.display.HTML object>"
      ]
     },
     "metadata": {},
     "output_type": "display_data"
    }
   ],
   "source": [
    "sdf.spatial.plot()"
   ]
  },
  {
   "cell_type": "markdown",
   "metadata": {},
   "source": [
    "### Smart Mapping"
   ]
  },
  {
   "cell_type": "markdown",
   "metadata": {},
   "source": [
    "* process of creating maps easily\n",
    "* uses algorithms to guess best cartography"
   ]
  },
  {
   "cell_type": "code",
   "execution_count": 22,
   "metadata": {},
   "outputs": [
    {
     "data": {
      "text/html": [
       "<div class=\"item_container\" style=\"height: auto; overflow: hidden; border: 1px solid #cfcfcf; border-radius: 2px; background: #f6fafa; line-height: 1.21429em; padding: 10px;\">\n",
       "                    <div class=\"item_left\" style=\"width: 210px; float: left;\">\n",
       "                       <a href='https://www.arcgis.com/home/item.html?id=91c6a5f6410b4991ab0db1d7c26daacb' target='_blank'>\n",
       "                        <img src='data:image/png;base64,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' width='200' height='133' class=\"itemThumbnail\">\n",
       "                       </a>\n",
       "                    </div>\n",
       "\n",
       "                    <div class=\"item_right\"     style=\"float: none; width: auto; overflow: hidden;\">\n",
       "                        <a href='https://www.arcgis.com/home/item.html?id=91c6a5f6410b4991ab0db1d7c26daacb' target='_blank'><b>USA Freeway System</b>\n",
       "                        </a>\n",
       "                        <br/>This layer presents rural and urban interstate highways.<img src='https://www.arcgis.com/home/js/jsapi/esri/css/images/item_type_icons/featureshosted16.png' style=\"vertical-align:middle;\">Feature Layer Collection by esri_dm\n",
       "                        <br/>Last Modified: January 07, 2020\n",
       "                        <br/>2 comments, 4,426,930 views\n",
       "                    </div>\n",
       "                </div>\n",
       "                "
      ],
      "text/plain": [
       "<Item title:\"USA Freeway System\" type:Feature Layer Collection owner:esri_dm>"
      ]
     },
     "execution_count": 22,
     "metadata": {},
     "output_type": "execute_result"
    }
   ],
   "source": [
    "# Get freeways layer (91c6a5f6410b4991ab0db1d7c26daacb)\n",
    "freeway_item = gis.content.get(\"91c6a5f6410b4991ab0db1d7c26daacb\")\n",
    "freeway_item"
   ]
  },
  {
   "cell_type": "code",
   "execution_count": 23,
   "metadata": {},
   "outputs": [
    {
     "data": {
      "application/vnd.jupyter.widget-view+json": {
       "model_id": "1416d3b939bc4b0296235f69586ebca4",
       "version_major": 2,
       "version_minor": 0
      },
      "text/plain": [
       "MapView(layout=Layout(height='400px', width='100%'))"
      ]
     },
     "metadata": {},
     "output_type": "display_data"
    },
    {
     "data": {
      "text/html": [
       "<div class=\"map-static-img-preview-1cadb59b-0857-4a4a-ae71-c8f80b9d7cc7\"><img src=\"\"></img></div>"
      ],
      "text/plain": [
       "<IPython.core.display.HTML object>"
      ]
     },
     "metadata": {},
     "output_type": "display_data"
    }
   ],
   "source": [
    "# Create a map centered on Dallas\n",
    "m3 = gis.map(\"Dallas, TX\")\n",
    "m3"
   ]
  },
  {
   "cell_type": "code",
   "execution_count": 24,
   "metadata": {},
   "outputs": [],
   "source": [
    "# Map the freeway layer, using the distance field to adjust the line size symbology\n",
    "m3.add_layer(freeway_item, {\"renderer\":\"ClassedSizeRenderer\", \"field_name\": \"DIST_MILES\"})"
   ]
  },
  {
   "cell_type": "markdown",
   "metadata": {},
   "source": [
    "### Visualize by Field"
   ]
  },
  {
   "cell_type": "code",
   "execution_count": 25,
   "metadata": {
    "scrolled": false
   },
   "outputs": [
    {
     "data": {
      "application/vnd.jupyter.widget-view+json": {
       "model_id": "aceb9adbdfff4491b8b83befc79396fa",
       "version_major": 2,
       "version_minor": 0
      },
      "text/plain": [
       "MapView(layout=Layout(height='400px', width='100%'))"
      ]
     },
     "metadata": {},
     "output_type": "display_data"
    },
    {
     "data": {
      "text/html": [
       "<div class=\"map-static-img-preview-b60748b0-7cab-4fdf-9490-8be5250934c8\"><img src=\"\"></img></div>"
      ],
      "text/plain": [
       "<IPython.core.display.HTML object>"
      ]
     },
     "metadata": {},
     "output_type": "display_data"
    }
   ],
   "source": [
    "m4 = gis.map(\"Texas\")\n",
    "m4"
   ]
  },
  {
   "cell_type": "code",
   "execution_count": 26,
   "metadata": {},
   "outputs": [],
   "source": [
    "# Get a county map service (https://sampleserver6.arcgisonline.com/arcgis/rest/services/Census/MapServer/2)\n",
    "# Filter it just to Texas\n",
    "# Set the renderer to be a Classed Color Renderer\n",
    "# Symbolize based on the 2007 Population field\n",
    "# Set the opacity to 70%\n",
    "m4.add_layer({\"type\":\"FeatureLayer\",\n",
    "             \"url\":\"https://sampleserver6.arcgisonline.com/arcgis/rest/services/Census/MapServer/2\",\n",
    "             \"definition_expression\": \"STATE_NAME='Texas'\",\n",
    "             \"renderer\":\"ClassedColorRenderer\",\n",
    "             \"field_name\":\"POP2007\",\n",
    "             \"opacity\":0.7})"
   ]
  },
  {
   "cell_type": "markdown",
   "metadata": {},
   "source": [
    "### Rendering SEDFs"
   ]
  },
  {
   "cell_type": "markdown",
   "metadata": {},
   "source": [
    "The Spatially-Enabled DataFrame has a plot() method that uses a syntax and symbology similar to matplotlib for visualizing map features. With this, you can easily visualize your data on both a map and a matplotlib chart with the same symbology.\n",
    "\n",
    "Uses same syntax as visualizing charts on Pandas DataFrames\n",
    "\n",
    "| Renderer | Syntax | Explanation |\n",
    "| --- | --- | --- |\n",
    "| Simple | 's' | renders using one symbol only |\n",
    "| Unique | 'u' | renders each unique value with different symbol |\n",
    "| Unique | 'u-a' | renders each unique value with different symbol using an arcade expression |\n",
    "| Class Breaks | 'c' | renders each group of values with a different color or size |\n",
    "| Heatmap | 'h' | renders density of point data as raster |"
   ]
  },
  {
   "cell_type": "code",
   "execution_count": 27,
   "metadata": {},
   "outputs": [],
   "source": [
    "from arcgis.mapping import show_styles, display_colormaps"
   ]
  },
  {
   "cell_type": "code",
   "execution_count": 28,
   "metadata": {},
   "outputs": [
    {
     "data": {
      "text/html": [
       "<div>\n",
       "<style scoped>\n",
       "    .dataframe tbody tr th:only-of-type {\n",
       "        vertical-align: middle;\n",
       "    }\n",
       "\n",
       "    .dataframe tbody tr th {\n",
       "        vertical-align: top;\n",
       "    }\n",
       "\n",
       "    .dataframe thead th {\n",
       "        text-align: right;\n",
       "    }\n",
       "</style>\n",
       "<table border=\"1\" class=\"dataframe\">\n",
       "  <thead>\n",
       "    <tr style=\"text-align: right;\">\n",
       "      <th></th>\n",
       "      <th>MARKER</th>\n",
       "      <th>ESRI_STYLE</th>\n",
       "    </tr>\n",
       "  </thead>\n",
       "  <tbody>\n",
       "    <tr>\n",
       "      <th>0</th>\n",
       "      <td>o</td>\n",
       "      <td>Circle (default)</td>\n",
       "    </tr>\n",
       "    <tr>\n",
       "      <th>1</th>\n",
       "      <td>+</td>\n",
       "      <td>Cross</td>\n",
       "    </tr>\n",
       "    <tr>\n",
       "      <th>2</th>\n",
       "      <td>d</td>\n",
       "      <td>Diamond</td>\n",
       "    </tr>\n",
       "    <tr>\n",
       "      <th>3</th>\n",
       "      <td>s</td>\n",
       "      <td>Square</td>\n",
       "    </tr>\n",
       "    <tr>\n",
       "      <th>4</th>\n",
       "      <td>x</td>\n",
       "      <td>X</td>\n",
       "    </tr>\n",
       "  </tbody>\n",
       "</table>\n",
       "</div>"
      ],
      "text/plain": [
       "  MARKER        ESRI_STYLE\n",
       "0      o  Circle (default)\n",
       "1      +             Cross\n",
       "2      d           Diamond\n",
       "3      s            Square\n",
       "4      x                 X"
      ]
     },
     "execution_count": 28,
     "metadata": {},
     "output_type": "execute_result"
    }
   ],
   "source": [
    "show_styles(geometry_type=\"POINT\")"
   ]
  },
  {
   "cell_type": "code",
   "execution_count": 29,
   "metadata": {},
   "outputs": [
    {
     "data": {
      "image/png": "[encoded data removed]",
      "text/plain": [
       "<Figure size 432x2160 with 150 Axes>"
      ]
     },
     "metadata": {
      "needs_background": "light"
     },
     "output_type": "display_data"
    }
   ],
   "source": [
    "%matplotlib inline\n",
    "display_colormaps()"
   ]
  },
  {
   "cell_type": "code",
   "execution_count": 33,
   "metadata": {},
   "outputs": [
    {
     "data": {
      "application/vnd.jupyter.widget-view+json": {
       "model_id": "19a97134c6784ab0ac2f8f0a0ff21e45",
       "version_major": 2,
       "version_minor": 0
      },
      "text/plain": [
       "MapView(layout=Layout(height='400px', width='100%'))"
      ]
     },
     "metadata": {},
     "output_type": "display_data"
    },
    {
     "data": {
      "text/html": [
       "<div class=\"map-static-img-preview-fc43161e-7afc-4ca7-baef-3b9283981c52\"><img src=\"\"></img></div>"
      ],
      "text/plain": [
       "<IPython.core.display.HTML object>"
      ]
     },
     "metadata": {},
     "output_type": "display_data"
    }
   ],
   "source": [
    "m5 = gis.map(zoomlevel=4)\n",
    "m5.center = [39,-98]\n",
    "m5"
   ]
  },
  {
   "cell_type": "code",
   "execution_count": 34,
   "metadata": {},
   "outputs": [
    {
     "data": {
      "text/plain": [
       "True"
      ]
     },
     "execution_count": 34,
     "metadata": {},
     "output_type": "execute_result"
    }
   ],
   "source": [
    "# Use SEDF plotting to map the POP field using a Class Breaks renderer with 10 classes and the gnuplot2_r color map\n",
    "sdf.spatial.plot(map_widget=m5,\n",
    "                renderer_type='c',\n",
    "                method='esriClassifyNaturalBreaks',\n",
    "                class_count=10,\n",
    "                col='POP',\n",
    "                cmap='gnuplot2_r',\n",
    "                alpha=0.7)"
   ]
  },
  {
   "cell_type": "code",
   "execution_count": 36,
   "metadata": {},
   "outputs": [],
   "source": [
    "# Turn on map legend\n",
    "m5.legend = True"
   ]
  },
  {
   "cell_type": "markdown",
   "metadata": {},
   "source": [
    "## Homework"
   ]
  },
  {
   "cell_type": "markdown",
   "metadata": {},
   "source": [
    "### Undergrad & Grad\n",
    "\n",
    "\n",
    "1. Make a new ArcGIS Notebook and save it as Lab8HW_yourname\n",
    "2. Write code to make a webmap centered on downtown Fort Worth, TX using the satellite basemap.\n",
    "3. Write code to make a webmap centered on the contiguous US, and add the latest COVID-19 case data.  \n",
    "    3.1 Use the Python API to search ArcGIS Online for an external layer owned by CSSE_covid19 (Johns Hopkins) titled \"COVID-19 Cases US\"  \n",
    "4. Using the same layer as #3, write code to make a new webmap that displays Texas County COVID Deaths  \n",
    "    4.1 Filter to just Texas counties (Province_State='Texas')  \n",
    "    4.2 Use a ClassedSizeRenderer on the \"Deaths\" field  "
   ]
  },
  {
   "cell_type": "markdown",
   "metadata": {},
   "source": [
    "### Just Grad\n",
    "In the same notebook, also add:\n",
    "5. Write code to make a webmap of parcel data  \n",
    "    5.1 Upload parcels.csv to your notebook (Go to Files->home and upload the CSV there)  \n",
    "    5.2 This location can be referenced in ArcGIS Notebooks as \"/home/parcels.csv\"  \n",
    "    5.3 Use a Unique Value SEDF renderer to color the parcels by school zone (\"CAMPNAME\")  \n",
    "6. Use pandas to make a histogram of the parcel market values (\"market_value\" field) [See Lab 5].\n",
    "7. Write code to make a new webmap of parcels colored by market value  \n",
    "    7.1 Use Class Breaks renderer with esriClassifyNaturalBreaks classification and 7 classes  \n",
    "    7.2 Use the YlGnBu color ramp  \n",
    "    7.3 Use the dark-grey basemap  \n",
    "    7.4 Add a legend  "
   ]
  },
  {
   "cell_type": "markdown",
   "metadata": {},
   "source": [
    "### Deliverables (Both Undergrad & Grad)\n",
    "1. Print your Jupyter Notebook to PDF and submit\n",
    "2. Also note we will be opening your notebooks on ArcGIS Online to run the code to test, so be sure it is named as above (Lab8HW_yourname) so we can find it."
   ]
  },
  {
   "cell_type": "code",
   "execution_count": null,
   "metadata": {},
   "outputs": [],
   "source": []
  }
 ],
 "metadata": {
  "esriNotebookRuntime": {
   "notebookRuntimeName": "ArcGIS Notebook Python 3 Standard",
   "notebookRuntimeVersion": "4.0"
  },
  "kernelspec": {
   "display_name": "Python 3 (ipykernel)",
   "language": "python",
   "name": "python3"
  },
  "language_info": {
   "codemirror_mode": {
    "name": "ipython",
    "version": 3
   },
   "file_extension": ".py",
   "mimetype": "text/x-python",
   "name": "python",
   "nbconvert_exporter": "python",
   "pygments_lexer": "ipython3",
   "version": "3.9.18"
  }
 },
 "nbformat": 4,
 "nbformat_minor": 2
}
