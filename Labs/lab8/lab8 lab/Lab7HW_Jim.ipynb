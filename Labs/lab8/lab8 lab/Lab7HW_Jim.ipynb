{
 "cells": [
  {
   "cell_type": "markdown",
   "metadata": {},
   "source": [
    "## 6317 Lab Jim ArcGIS API python\n"
   ]
  },
  {
   "cell_type": "markdown",
   "metadata": {},
   "source": [
    "#### Run this cell to connect to your GIS and get started:"
   ]
  },
  {
   "cell_type": "code",
   "execution_count": 44,
   "metadata": {},
   "outputs": [
    {
     "name": "stderr",
     "output_type": "stream",
     "text": [
      "/opt/conda/lib/python3.9/site-packages/arcgis/gis/__init__.py:703: UserWarning: You are logged on as cxp220025@utdallas.edu_UTDEPPS with an administrator role, proceed with caution.\n",
      "  warnings.warn(\n"
     ]
    }
   ],
   "source": [
    "from arcgis.gis import GIS\n",
    "gis = GIS(\"home\")"
   ]
  },
  {
   "cell_type": "markdown",
   "metadata": {},
   "source": [
    "### Write code to make a webmap centered on downtown Fort Worth, TX using the satellite basemap."
   ]
  },
  {
   "cell_type": "code",
   "execution_count": 137,
   "metadata": {
    "scrolled": true
   },
   "outputs": [
    {
     "data": {
      "application/vnd.jupyter.widget-view+json": {
       "model_id": "02641f868a5a4c3a83babe2db32281bc",
       "version_major": 2,
       "version_minor": 0
      },
      "text/plain": [
       "MapView(layout=Layout(height='400px', width='100%'))"
      ]
     },
     "metadata": {},
     "output_type": "display_data"
    },
    {
     "data": {
      "text/html": [
       "<div class=\"map-static-img-preview-32c6f497-af46-41d7-b421-3fb51fbd9ff7\"><img src=\"\"></img></div>"
      ],
      "text/plain": [
       "<IPython.core.display.HTML object>"
      ]
     },
     "metadata": {},
     "output_type": "display_data"
    },
    {
     "data": {
      "text/html": [
       "<div class=\"map-html-embed-preview-32c6f497-af46-41d7-b421-3fb51fbd9ff7\"></div>"
      ],
      "text/plain": [
       "<IPython.core.display.HTML object>"
      ]
     },
     "metadata": {},
     "output_type": "display_data"
    }
   ],
   "source": [
    "# Create a map centered on downtown Fort Worth, TX using satellite imagery\n",
    "map1 = gis.map('Fort Worth, Texas', zoomlevel=15)\n",
    "map1.basemap = 'satellite'\n",
    "map1"
   ]
  },
  {
   "cell_type": "markdown",
   "metadata": {},
   "source": [
    "### Write code to make a webmap centered on the contiguous US, and add the latest COVID-19 case data.\n",
    "#### 3.1 Use the Python API to search ArcGIS Online for an external layer owned by CSSE_covid19 (Johns Hopkins) titled \"COVID-19 Cases US\""
   ]
  },
  {
   "cell_type": "code",
   "execution_count": 48,
   "metadata": {},
   "outputs": [],
   "source": [
    "from arcgis.mapping import show_styles, display_colormaps\n",
    "from arcgis.features import FeatureLayer"
   ]
  },
  {
   "cell_type": "code",
   "execution_count": 49,
   "metadata": {},
   "outputs": [
    {
     "data": {
      "text/plain": [
       "[<Item title:\"COVID-19 Cases US\" type:Feature Layer Collection owner:CSSE_covid19>,\n",
       " <Item title:\"Coronavirus COVID-19 Cases V2\" type:Feature Layer Collection owner:CSSE_covid19>,\n",
       " <Item title:\"Coronavirus COVID-19 Cases\" type:Feature Layer Collection owner:CSSE_covid19>]"
      ]
     },
     "execution_count": 49,
     "metadata": {},
     "output_type": "execute_result"
    }
   ],
   "source": [
    "# Search for COVID-19 data owned by CSSE_covid19 (Johns Hopkins)\n",
    "search_query = \"owner:CSSE_covid19 title:'COVID-19 Cases US' type:Feature Service\"\n",
    "covid_data_search = gis.content.search(search_query, outside_org=True)\n",
    "covid_data_search"
   ]
  },
  {
   "cell_type": "code",
   "execution_count": 109,
   "metadata": {},
   "outputs": [
    {
     "data": {
      "application/vnd.jupyter.widget-view+json": {
       "model_id": "dc728cfb57f14fe2b29cd9c44087547a",
       "version_major": 2,
       "version_minor": 0
      },
      "text/plain": [
       "MapView(layout=Layout(height='400px', width='100%'))"
      ]
     },
     "metadata": {},
     "output_type": "display_data"
    },
    {
     "data": {
      "text/html": [
       "<div class=\"map-static-img-preview-ffb2d318-278d-4fbc-9cef-97098f6cb98c\"><img src=\"\"></img></div>"
      ],
      "text/plain": [
       "<IPython.core.display.HTML object>"
      ]
     },
     "metadata": {},
     "output_type": "display_data"
    },
    {
     "data": {
      "text/html": [
       "<div class=\"map-html-embed-preview-ffb2d318-278d-4fbc-9cef-97098f6cb98c\"></div>"
      ],
      "text/plain": [
       "<IPython.core.display.HTML object>"
      ]
     },
     "metadata": {},
     "output_type": "display_data"
    }
   ],
   "source": [
    "# Find the \"COVID-19 Cases US\" Feature Layer\n",
    "covid_layer = []\n",
    "for item in covid_data_search:\n",
    "    if item.title == \"COVID-19 Cases US\":\n",
    "        covid_layer = item\n",
    "        break\n",
    "\n",
    "# Create a map centered on the contiguous US\n",
    "map2 = gis.map('United States', zoomlevel=6)\n",
    "\n",
    "# Add the COVID-19 layer to the map\n",
    "if covid_layer:\n",
    "    map2.add_layer(covid_layer)\n",
    "\n",
    "\n",
    "map2"
   ]
  },
  {
   "cell_type": "markdown",
   "metadata": {},
   "source": [
    "### Using the same layer as #3, write code to make a new webmap that displays Texas County COVID Deaths\n",
    "#### 4.1 Filter to just Texas counties (Province_State='Texas')\n",
    "#### 4.2 Use a ClassedSizeRenderer on the \"Deaths\" field"
   ]
  },
  {
   "cell_type": "code",
   "execution_count": 51,
   "metadata": {
    "scrolled": true
   },
   "outputs": [
    {
     "data": {
      "application/vnd.jupyter.widget-view+json": {
       "model_id": "27ed98698b564c16a53a2201164a5424",
       "version_major": 2,
       "version_minor": 0
      },
      "text/plain": [
       "MapView(layout=Layout(height='400px', width='100%'))"
      ]
     },
     "metadata": {},
     "output_type": "display_data"
    },
    {
     "data": {
      "text/html": [
       "<div class=\"map-static-img-preview-799eb1b4-64a0-4a99-bb40-c0ddf14276be\"><img src=\"\"></img></div>"
      ],
      "text/plain": [
       "<IPython.core.display.HTML object>"
      ]
     },
     "metadata": {},
     "output_type": "display_data"
    },
    {
     "data": {
      "text/html": [
       "<div class=\"map-html-embed-preview-799eb1b4-64a0-4a99-bb40-c0ddf14276be\"></div>"
      ],
      "text/plain": [
       "<IPython.core.display.HTML object>"
      ]
     },
     "metadata": {},
     "output_type": "display_data"
    }
   ],
   "source": [
    "from arcgis.mapping import show_styles\n",
    "from arcgis.features import FeatureLayer\n",
    "\n",
    "# Filter to just Texas counties (Province_State='Texas')\n",
    "texas_county_layer = FeatureLayer(covid_layer.url)\n",
    "query = \"Province_State='Texas'\"\n",
    "texas_county_layer.filter = query\n",
    "\n",
    "# Use a ClassedSizeRenderer on the \"Deaths\" field\n",
    "class_size_renderer = {\n",
    "    \"renderer\": \"ClassedSizeRenderer\",\n",
    "    \"field_name\": \"Deaths\",\n",
    "    \"min_value\": 0,\n",
    "    \"max_value\": 5000,\n",
    "    \"min_size\": 5,\n",
    "    \"max_size\": 30,\n",
    "    \"symbol\": {\n",
    "        \"color\": [0, 0, 255, 128],\n",
    "        \"outline\": {\n",
    "            \"color\": [0, 0, 0, 255],\n",
    "            \"width\": 0.5\n",
    "        }\n",
    "    }\n",
    "}\n",
    "\n",
    "texas_county_layer.renderer = class_size_renderer\n",
    "\n",
    "# Create a map centered on Texas\n",
    "map_texas = gis.map('Texas', zoomlevel=6)\n",
    "map_texas.add_layer(texas_county_layer)\n",
    "\n",
    "# Display the map\n",
    "map_texas\n"
   ]
  },
  {
   "cell_type": "markdown",
   "metadata": {},
   "source": [
    "### Write code to make a webmap of parcel data\n",
    "#### 5.1 Upload parcels.csv to your notebook (Go to Files->home and upload the CSV there)\n",
    "#### 5.2 This location can be referenced in ArcGIS Notebooks as \"/home/parcels.csv\"\n",
    "#### 5.3 Use a Unique Value SEDF renderer to color the parcels by school zone (\"CAMPNAME\")"
   ]
  },
  {
   "cell_type": "code",
   "execution_count": 135,
   "metadata": {
    "scrolled": true
   },
   "outputs": [
    {
     "data": {
      "application/vnd.jupyter.widget-view+json": {
       "model_id": "afe87ab0d64e497692a5bda399fc4579",
       "version_major": 2,
       "version_minor": 0
      },
      "text/plain": [
       "MapView(layout=Layout(height='400px', width='100%'))"
      ]
     },
     "metadata": {},
     "output_type": "display_data"
    },
    {
     "data": {
      "text/html": [
       "<div class=\"map-static-img-preview-ef6c7234-59f2-4112-b64a-bb1cb23fe591\"><img src=\"\"></img></div>"
      ],
      "text/plain": [
       "<IPython.core.display.HTML object>"
      ]
     },
     "metadata": {},
     "output_type": "display_data"
    },
    {
     "data": {
      "text/html": [
       "<div class=\"map-html-embed-preview-ef6c7234-59f2-4112-b64a-bb1cb23fe591\"></div>"
      ],
      "text/plain": [
       "<IPython.core.display.HTML object>"
      ]
     },
     "metadata": {},
     "output_type": "display_data"
    }
   ],
   "source": [
    "from arcgis.mapping import show_styles\n",
    "import pandas as pd\n",
    "from arcgis import GeoAccessor\n",
    "\n",
    "# Load the parcel data from the provided CSV file\n",
    "file_path = \"/arcgis/home/parcels.csv\"\n",
    "parcel_data = pd.read_csv(file_path)\n",
    "\n",
    "# Convert the DataFrame to a Spatially Enabled DataFrame (SEDF)\n",
    "parcel_sdf = pd.DataFrame.spatial.from_xy(parcel_data, 'x', 'y')\n",
    "\n",
    "# Display available renderers\n",
    "show_styles(geometry_type=\"POINT\")\n",
    "\n",
    "# Use Unique Value Renderer to color parcels by school zone (\"CAMPNAME\")\n",
    "map_parcel = gis.map()\n",
    "map_parcel.center = [32.9855, -96.7507]  # Center the map to an appropriate location\n",
    "\n",
    "# Plot the parcel data using a Unique Value Symbology based on \"CAMPNAME\"\n",
    "parcel_sdf.spatial.plot(map_widget=map_parcel,\n",
    "                        renderer_type='u',\n",
    "                        col='CAMPNAME')\n",
    "map_parcel"
   ]
  },
  {
   "cell_type": "markdown",
   "metadata": {},
   "source": [
    "### Use pandas to make a histogram of the parcel market values (\"market_value\" field) [See Lab 5]."
   ]
  },
  {
   "cell_type": "code",
   "execution_count": 106,
   "metadata": {},
   "outputs": [
    {
     "data": {
      "text/plain": [
       "Text(0, 0.5, 'Count (log scale)')"
      ]
     },
     "execution_count": 106,
     "metadata": {},
     "output_type": "execute_result"
    },
    {
     "data": {
      "image/png": "[encoded data removed]",
      "text/plain": [
       "<Figure size 1000x500 with 1 Axes>"
      ]
     },
     "metadata": {},
     "output_type": "display_data"
    }
   ],
   "source": [
    "import pandas as pd\n",
    "import matplotlib.pyplot as plt\n",
    "\n",
    "# Load the parcel data from the provided CSV file\n",
    "file_path = \"/arcgis/home/parcels.csv\"\n",
    "parcel_data = pd.read_csv(file_path)\n",
    "\n",
    "# Create histograms of market values and living areas, logarithmically scaled\n",
    "plt.figure(figsize=(10, 5))\n",
    "\n",
    "# Histogram for Market Values\n",
    "plt.hist(parcel_data['market_value'], bins=30, color='skyblue', edgecolor='black')\n",
    "plt.yscale('log')\n",
    "plt.title('Parcel Market Values')\n",
    "plt.xlabel('Market Value')\n",
    "plt.ylabel('Count (log scale)')\n",
    "\n",
    "\n"
   ]
  },
  {
   "cell_type": "markdown",
   "metadata": {},
   "source": [
    "### Write code to make a new webmap of parcels colored by market value\n",
    "#### 7.1 Use Class Breaks renderer with esriClassifyNaturalBreaks classification and 7 classes\n",
    "#### 7.2 Use the YlGnBu color ramp\n",
    "#### 7.3 Use the dark-grey basemap\n",
    "#### 7.4 Add a legend"
   ]
  },
  {
   "cell_type": "code",
   "execution_count": 129,
   "metadata": {
    "scrolled": true
   },
   "outputs": [
    {
     "data": {
      "application/vnd.jupyter.widget-view+json": {
       "model_id": "dc3c738b1bf141f4839569ab3f147369",
       "version_major": 2,
       "version_minor": 0
      },
      "text/plain": [
       "MapView(layout=Layout(height='400px', width='100%'), legend=True)"
      ]
     },
     "metadata": {},
     "output_type": "display_data"
    },
    {
     "data": {
      "text/html": [
       "<div class=\"map-static-img-preview-0b0c8cb4-2c26-451b-bd1f-811d9a4e2456\"><img src=\"\"></img></div>"
      ],
      "text/plain": [
       "<IPython.core.display.HTML object>"
      ]
     },
     "metadata": {},
     "output_type": "display_data"
    },
    {
     "data": {
      "text/html": [
       "<div class=\"map-html-embed-preview-0b0c8cb4-2c26-451b-bd1f-811d9a4e2456\"></div>"
      ],
      "text/plain": [
       "<IPython.core.display.HTML object>"
      ]
     },
     "metadata": {},
     "output_type": "display_data"
    }
   ],
   "source": [
    "from arcgis.features import FeatureLayer\n",
    "\n",
    "# Load the parcel data from the provided CSV file\n",
    "file_path = \"/arcgis/home/parcels.csv\"\n",
    "parcel_data = pd.read_csv(file_path)\n",
    "\n",
    "# Convert the DataFrame to a Spatially Enabled DataFrame (SEDF)\n",
    "parcel_sdf = pd.DataFrame.spatial.from_xy(parcel_data, 'x', 'y')\n",
    "\n",
    "# Display available renderers\n",
    "show_styles(geometry_type=\"POINT\")\n",
    "\n",
    "# Use Class Breaks Renderer to color parcels by market value\n",
    "map_parcels = gis.map('Plano, Texas', zoomlevel=12)\n",
    "\n",
    "# Set a dark-gray-vector basemap\n",
    "map_parcels.basemap = 'dark-gray-vector'\n",
    "\n",
    "# Plot the parcel data using a Class Breaks Renderer based on the original \"market_value\" (not logged)\n",
    "parcel_sdf.spatial.plot(map_widget=map_parcels,\n",
    "                        renderer_type='c',\n",
    "                        method='esriClassifyNaturalBreaks',\n",
    "                        class_count=7,\n",
    "                        col='market_value',\n",
    "                        cmap='YlGnBu')\n",
    "\n",
    "# Add legend to the map\n",
    "map_parcels.legend = True\n",
    "\n",
    "map_parcels\n"
   ]
  },
  {
   "cell_type": "code",
   "execution_count": 1,
   "metadata": {},
   "outputs": [
    {
     "ename": "SyntaxError",
     "evalue": "invalid syntax (1958729769.py, line 1)",
     "output_type": "error",
     "traceback": [
      "\u001b[0;36m  File \u001b[0;32m\"/var/folders/m3/k788kw6103zdvc0bwpc1lzd00000gn/T/ipykernel_9008/1958729769.py\"\u001b[0;36m, line \u001b[0;32m1\u001b[0m\n\u001b[0;31m    jupyter nbconvert --to pdf Lab7HW_Jim.ipynb\u001b[0m\n\u001b[0m            ^\u001b[0m\n\u001b[0;31mSyntaxError\u001b[0m\u001b[0;31m:\u001b[0m invalid syntax\n"
     ]
    }
   ],
   "source": [
    "\n"
   ]
  },
  {
   "cell_type": "code",
   "execution_count": null,
   "metadata": {},
   "outputs": [],
   "source": []
  }
 ],
 "metadata": {
  "esriNotebookRuntime": {
   "notebookRuntimeName": "ArcGIS Notebook Python 3 Standard",
   "notebookRuntimeVersion": "9.0"
  },
  "kernelspec": {
   "display_name": "Python 3 (ipykernel)",
   "language": "python",
   "name": "python3"
  },
  "language_info": {
   "codemirror_mode": {
    "name": "ipython",
    "version": 3
   },
   "file_extension": ".py",
   "mimetype": "text/x-python",
   "name": "python",
   "nbconvert_exporter": "python",
   "pygments_lexer": "ipython3",
   "version": "3.9.7"
  }
 },
 "nbformat": 4,
 "nbformat_minor": 2
}
