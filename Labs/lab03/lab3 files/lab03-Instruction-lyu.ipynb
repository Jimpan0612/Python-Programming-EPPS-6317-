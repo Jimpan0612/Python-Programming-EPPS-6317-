{
 "cells": [
  {
   "cell_type": "markdown",
   "metadata": {},
   "source": [
    "# Python List Methods  \n",
    "> https://www.w3schools.com/python/python_ref_list.asp"
   ]
  },
  {
   "cell_type": "markdown",
   "metadata": {},
   "source": [
    "## Use 'len' to get the length of a list"
   ]
  },
  {
   "cell_type": "code",
   "execution_count": 2,
   "metadata": {},
   "outputs": [
    {
     "name": "stdout",
     "output_type": "stream",
     "text": [
      "the length of a0 is 5\n",
      "the length of a1 is 4\n",
      "the length of a2 is 4\n"
     ]
    }
   ],
   "source": [
    "# Use 'len' to get the length of a list\n",
    "a0 = [4,3,5,6,7]\n",
    "a1 = ['Peter', 'Kate', 'Joy', 'David']\n",
    "a2 = [['peter', 2], ['Kate', 3], ['Joy', 3], ['David', 1]]\n",
    "#\n",
    "a0_len = len(a0)\n",
    "a1_len = len(a1)\n",
    "a2_len = len(a2)\n",
    "#\n",
    "print('the length of a0 is {}'.format(a0_len))\n",
    "print('the length of a1 is {}'.format(a1_len))\n",
    "print('the length of a2 is {}'.format(a2_len))"
   ]
  },
  {
   "cell_type": "markdown",
   "metadata": {},
   "source": [
    "## How to judge whehter a list is empty or not?"
   ]
  },
  {
   "cell_type": "code",
   "execution_count": 3,
   "metadata": {},
   "outputs": [
    {
     "name": "stdout",
     "output_type": "stream",
     "text": [
      "the list a is not empty\n",
      "the list b is empty\n"
     ]
    }
   ],
   "source": [
    "# How to judge whehter a list is empty or not?\n",
    "a = [1,2,3]\n",
    "b = []\n",
    "if len(a) == 0:\n",
    "    print('the list a is empty')\n",
    "else:\n",
    "    print('the list a is not empty')\n",
    "#\n",
    "if len(b) == 0:\n",
    "    print('the list b is empty')\n",
    "else:\n",
    "    print('the list b is not empty')"
   ]
  },
  {
   "cell_type": "markdown",
   "metadata": {},
   "source": [
    "## Some good tricks for dealing with List object"
   ]
  },
  {
   "cell_type": "code",
   "execution_count": 4,
   "metadata": {},
   "outputs": [],
   "source": [
    "studentsInfo = [['peter', 2], ['Kate', 3], ['Joy', 3], ['David', 1]]"
   ]
  },
  {
   "cell_type": "code",
   "execution_count": 6,
   "metadata": {},
   "outputs": [
    {
     "name": "stdout",
     "output_type": "stream",
     "text": [
      "Name\tgrade\n",
      "peter \t 2\n",
      "Kate \t 3\n",
      "Joy \t 3\n",
      "David \t 1\n"
     ]
    }
   ],
   "source": [
    "# Retrieve all elements in the studentsInfo\n",
    "print('Name\\tgrade')\n",
    "for i in studentsInfo:\n",
    "    print(i[0],'\\t', i[1])"
   ]
  },
  {
   "cell_type": "code",
   "execution_count": 7,
   "metadata": {},
   "outputs": [
    {
     "data": {
      "text/plain": [
       "['peter', 'Kate', 'Joy', 'David']"
      ]
     },
     "execution_count": 7,
     "metadata": {},
     "output_type": "execute_result"
    }
   ],
   "source": [
    "# Create a list to only store student names\n",
    "studentNames = [i[0] for i in studentsInfo]\n",
    "studentNames"
   ]
  },
  {
   "cell_type": "code",
   "execution_count": 8,
   "metadata": {},
   "outputs": [
    {
     "data": {
      "text/plain": [
       "[2, 3, 3, 1]"
      ]
     },
     "execution_count": 8,
     "metadata": {},
     "output_type": "execute_result"
    }
   ],
   "source": [
    "# Create a list to only store student grades\n",
    "studentGrades = [i[1] for i in studentsInfo]\n",
    "studentGrades"
   ]
  },
  {
   "cell_type": "code",
   "execution_count": 10,
   "metadata": {},
   "outputs": [
    {
     "name": "stdout",
     "output_type": "stream",
     "text": [
      "the index of Joy is 2\n"
     ]
    },
    {
     "data": {
      "text/plain": [
       "'Joy'"
      ]
     },
     "execution_count": 10,
     "metadata": {},
     "output_type": "execute_result"
    }
   ],
   "source": [
    "# Returns the index of the first element with the specified value\n",
    "idx_Joy = studentNames.index('Joy')\n",
    "print('the index of Joy is {}'.format(idx_Joy))\n",
    "studentNames[idx_Joy]"
   ]
  },
  {
   "cell_type": "markdown",
   "metadata": {},
   "source": [
    "## How to Filter List Elements in Python  \n",
    "+ Introduction of lambda function  \n",
    "    > [What is lambda](https://www.w3schools.com/python/python_lambda.asp)  \n",
    "    > [How to Use Python Lambda Functions](https://realpython.com/python-lambda/)  \n",
    "+ https://www.pythontutorial.net/python-basics/python-filter-list/"
   ]
  },
  {
   "cell_type": "code",
   "execution_count": 13,
   "metadata": {},
   "outputs": [
    {
     "data": {
      "text/plain": [
       "filter"
      ]
     },
     "execution_count": 13,
     "metadata": {},
     "output_type": "execute_result"
    }
   ],
   "source": [
    "studentsInfo = [\n",
    "    ['peter', 2], \n",
    "    ['Kate', 3], \n",
    "    ['Joy', 3], \n",
    "    ['David', 1]\n",
    "]\n",
    "#\n",
    "con = filter(lambda stu: stu[1] == 3, studentsInfo)\n",
    "# the return of filter is a 'filter' object. \n",
    "# Use the function 'type' to check it\n",
    "type(con)"
   ]
  },
  {
   "cell_type": "code",
   "execution_count": 12,
   "metadata": {},
   "outputs": [
    {
     "data": {
      "text/plain": [
       "[['Kate', 3], ['Joy', 3]]"
      ]
     },
     "execution_count": 12,
     "metadata": {},
     "output_type": "execute_result"
    }
   ],
   "source": [
    "# if you want to show the details of a iteration object, you will convert it\n",
    "# to a list\n",
    "list(con)"
   ]
  },
  {
   "cell_type": "code",
   "execution_count": null,
   "metadata": {},
   "outputs": [],
   "source": []
  }
 ],
 "metadata": {
  "kernelspec": {
   "display_name": "Python 3",
   "language": "python",
   "name": "python3"
  },
  "language_info": {
   "codemirror_mode": {
    "name": "ipython",
    "version": 3
   },
   "file_extension": ".py",
   "mimetype": "text/x-python",
   "name": "python",
   "nbconvert_exporter": "python",
   "pygments_lexer": "ipython3",
   "version": "3.7.10"
  }
 },
 "nbformat": 4,
 "nbformat_minor": 4
}
