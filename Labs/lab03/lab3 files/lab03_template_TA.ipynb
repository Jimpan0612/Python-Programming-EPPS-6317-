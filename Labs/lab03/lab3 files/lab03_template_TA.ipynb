{
 "cells": [
  {
   "cell_type": "markdown",
   "id": "7fe415e4-76b4-4c73-bb8b-546ad264e0be",
   "metadata": {},
   "source": [
    "Author: Haitao Lyu  \n",
    "Date  : 09/18/2023"
   ]
  },
  {
   "cell_type": "markdown",
   "id": "8f4c4946-8770-47c7-b1bf-52121fc61c46",
   "metadata": {},
   "source": [
    "> utilize 'try  except ' to control invalid 'menu'"
   ]
  },
  {
   "cell_type": "code",
   "execution_count": 4,
   "id": "ca731c81-1202-4372-824a-bab77bc509b8",
   "metadata": {
    "tags": []
   },
   "outputs": [
    {
     "name": "stdout",
     "output_type": "stream",
     "text": [
      "What would you like to do?\n",
      "\t[1] Show full gradebook\n",
      "\t[2] Add Student\n",
      "\t[3] Remove Student\n",
      "\t[4] Modify Student Information\n",
      "\t[5] Display Highest Grade\n",
      "\t[6] Display Lowest Grade\n",
      "\t[7] Quit\n"
     ]
    },
    {
     "name": "stdin",
     "output_type": "stream",
     "text": [
      "Enter selection [1-7] 89\n"
     ]
    },
    {
     "name": "stdout",
     "output_type": "stream",
     "text": [
      "Your input is invalid!\n"
     ]
    },
    {
     "name": "stdin",
     "output_type": "stream",
     "text": [
      "Enter selection [1-7] 7\n"
     ]
    },
    {
     "name": "stdout",
     "output_type": "stream",
     "text": [
      "Successfully Quit!\n"
     ]
    }
   ],
   "source": [
    "menu = \"\"\n",
    "student = []\n",
    "print(\"What would you like to do?\")\n",
    "print(\"\\t[1] Show full gradebook\")\n",
    "print(\"\\t[2] Add Student\")\n",
    "print(\"\\t[3] Remove Student\")\n",
    "print(\"\\t[4] Modify Student Information\")\n",
    "print(\"\\t[5] Display Highest Grade\")\n",
    "print(\"\\t[6] Display Lowest Grade\")\n",
    "print(\"\\t[7] Quit\")\n",
    "\n",
    "while menu != 7:\n",
    "    try:\n",
    "        menu = input(\"Enter selection [1-7]\")\n",
    "        if menu not in [str(i) for i in range(1,8)]:\n",
    "            raise Exception(\"Your input is invalid!\")\n",
    "        # transform 'menu' to be integer.\n",
    "        menu = int(menu)\n",
    "        if menu == 7:\n",
    "            print('Successfully Quit!')\n",
    "            break\n",
    "    except Exception as err:\n",
    "        print(err)\n",
    "        continue"
   ]
  },
  {
   "cell_type": "markdown",
   "id": "317ba2cb-a414-4dec-9613-16e83c7bb1ff",
   "metadata": {},
   "source": [
    "> I provide a frame as an example\n",
    "\n",
    "# Don't directly copy my codes. Please notice the comments."
   ]
  },
  {
   "cell_type": "code",
   "execution_count": null,
   "id": "1e1d40e9-a127-48cd-bcdf-e16820354004",
   "metadata": {
    "tags": []
   },
   "outputs": [
    {
     "name": "stdout",
     "output_type": "stream",
     "text": [
      "What would you like to do?\n",
      "\t[1] Show full gradebook\n",
      "\t[2] Add Student\n",
      "\t[3] Remove Student\n",
      "\t[4] Modify Student Information\n",
      "\t[5] Display Highest Grade\n",
      "\t[6] Display Lowest Grade\n",
      "\t[7] Quit\n"
     ]
    },
    {
     "name": "stdin",
     "output_type": "stream",
     "text": [
      "Enter selection [1-7] 5\n"
     ]
    },
    {
     "name": "stdout",
     "output_type": "stream",
     "text": [
      "Tom had the highest grade: 96.0\n"
     ]
    }
   ],
   "source": [
    "menu = \"\"\n",
    "student = []\n",
    "#student = [('Peter',89.),('Kate',63.),('Tom',96.)] # for test\n",
    "print(\"What would you like to do?\")\n",
    "print(\"\\t[1] Show full gradebook\")\n",
    "print(\"\\t[2] Add Student\")\n",
    "print(\"\\t[3] Remove Student\")\n",
    "print(\"\\t[4] Modify Student Information\")\n",
    "print(\"\\t[5] Display Highest Grade\")\n",
    "print(\"\\t[6] Display Lowest Grade\")\n",
    "print(\"\\t[7] Quit\")\n",
    "\n",
    "while menu != 7:\n",
    "    try:\n",
    "        menu = input(\"Enter selection [1-7]\")\n",
    "        if menu not in [str(i) for i in range(1,8)]:\n",
    "            raise Exception(\"Your input is invalid!\")\n",
    "        # transform 'menu' to be integer.\n",
    "        menu = int(menu)\n",
    "        if menu == 7:\n",
    "            print('Successfully Quit!')\n",
    "            break\n",
    "        elif menu == 1:\n",
    "            if len(student) == 0:\n",
    "                raise Exception(\"Empty Gradebook!\")\n",
    "            print('Name\\tGrade')\n",
    "            for name,grade in student:\n",
    "                print(f'{name}\\t{grade}')\n",
    "        elif menu == 2:\n",
    "            # prompt user for student name\n",
    "            sname = input('Student Name?')\n",
    "            # prompt user for student grade\n",
    "            sgrade = input('Student Grade?')\n",
    "            sgrade = float(sgrade)\n",
    "            if sgrade > 100 or sgrade <0:\n",
    "                raise Exception(\"Grade Range is from 0 to 100!\")\n",
    "            # please consider how to use 'filter' to give warning that the name you input has existed in the gradebook - if you provide this function, extra score +5\n",
    "            student.append([sname, sgrade])\n",
    "        elif menu == 3:\n",
    "            print('---------- Remove Student --------------')\n",
    "            if len(student) == 0:\n",
    "                raise Exception(\"Empty Gradebook!\")\n",
    "            nameList  = [i[0] for i in student] # get all students' names\n",
    "\n",
    "            sname = input('Student to Remove: ')\n",
    "            if sname not in nameList:\n",
    "                raise Exception(\"The student'name is invalid!\")\n",
    "            # find the position in the list 'student'\n",
    "            idx = nameList.index(sname)\n",
    "            # list the info of the student to be removed\n",
    "            sname,sgrade = student[idx]\n",
    "            print(f'the grade of {sname} is removed.')\n",
    "            print(\"Name\\tGrade\")\n",
    "            print(f\"{sname}\\t{sgrade}\")\n",
    "            # please use 'pop(idx)' or 'remove([sname, sgrade])' to delete the student. if no, -5\n",
    "            \n",
    "            \n",
    "            \n",
    "            \n",
    "            \n",
    "            \n",
    "            \n",
    "        elif menu == 4:\n",
    "            print('---------- Modify Student Information --------------')\n",
    "            # please implement when the gradebook is empty, raise error 'Empty Gradebook' (simulate menu==3). if no, -5\n",
    "\n",
    "            \n",
    "            \n",
    "            \n",
    "            #\n",
    "            nameList  = [i[0] for i in student] # get all students' names\n",
    "            sname = input('Student to Modify: ')\n",
    "            # please implement when the name you input is not in the gradebook, rasie error 'The student'name is invalid'. if no, -5 \n",
    "            \n",
    "            \n",
    "            \n",
    "            \n",
    "            \n",
    "            \n",
    "            \n",
    "            # find the position in the list 'student'\n",
    "            idx = nameList.index(sname)\n",
    "            # list the info of the student to be modified\n",
    "            sname,sgrade = student[idx]\n",
    "            print(f'the information of {sname} is listed below.')\n",
    "            print(\"Name\\tGrade\")\n",
    "            print(f\"{sname}\\t{sgrade}\")\n",
    "            #\n",
    "            newName  = input('Name: (press Enter to keep original value) ')\n",
    "            if len(newName) == 0:\n",
    "                newName = sname\n",
    "            \n",
    "            newGrade = input('Grade: (press Enter to keep original value)')\n",
    "            # please implement 'press Enter to keep original value' if no, -5\n",
    "            \n",
    "            newGrade = float(newGrade)\n",
    "            if newGrade > 100 or newGrade <0:\n",
    "                raise Exception(\"Grade Range is from 0 to 100!\")\n",
    "            \n",
    "            # update student information\n",
    "            student[idx] = [newName, newGrade]\n",
    "        elif menu == 5:\n",
    "            # please implement when the gradebook is empty, raise error 'Empty Gradebook' (simulate menu==3). if no, -5\n",
    "            \n",
    "            \n",
    "            \n",
    "            \n",
    "            \n",
    "            \n",
    "            \n",
    "            #\n",
    "            gradeList = [int(i[1]) for i in student] # get all grades from the gradebook\n",
    "            highestGrade = max(gradeList)\n",
    "            a = filter(lambda stu:stu[1] == highestGrade, student )\n",
    "            stuList = list(a)\n",
    "            for s in stuList:\n",
    "                out = '{} had the highest grade: {}'.format(s[0],s[1])\n",
    "                print(out)\n",
    "        elif menu == 6: # if no implementation, -15\n",
    "            print('---------- Display Lowest Grade --------------')\n",
    "            \n",
    "    except Exception as err:\n",
    "        print(err)\n",
    "        continue"
   ]
  }
 ],
 "metadata": {
  "kernelspec": {
   "display_name": "env_torch",
   "language": "python",
   "name": "env_torch"
  },
  "language_info": {
   "codemirror_mode": {
    "name": "ipython",
    "version": 3
   },
   "file_extension": ".py",
   "mimetype": "text/x-python",
   "name": "python",
   "nbconvert_exporter": "python",
   "pygments_lexer": "ipython3",
   "version": "3.11.4"
  }
 },
 "nbformat": 4,
 "nbformat_minor": 5
}
