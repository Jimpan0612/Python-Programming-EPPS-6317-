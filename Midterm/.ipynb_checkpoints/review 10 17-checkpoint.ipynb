{
 "cells": [
  {
   "cell_type": "code",
   "execution_count": 36,
   "id": "4e819ec6",
   "metadata": {},
   "outputs": [
    {
     "name": "stdout",
     "output_type": "stream",
     "text": [
      "5\n",
      "6\n",
      "7\n",
      "8\n",
      "9\n"
     ]
    }
   ],
   "source": [
    "x=5\n",
    "while x < 10:\n",
    "    print(x)\n",
    "    x += 1"
   ]
  },
  {
   "cell_type": "code",
   "execution_count": 15,
   "id": "7b9c51ab",
   "metadata": {},
   "outputs": [
    {
     "name": "stdout",
     "output_type": "stream",
     "text": [
      "1\n",
      "2\n",
      "3\n",
      "4\n"
     ]
    }
   ],
   "source": [
    "for x in range(1,5): #The last value is not executed.\n",
    "    print(x)"
   ]
  },
  {
   "cell_type": "code",
   "execution_count": 11,
   "id": "b2b0e3a8",
   "metadata": {},
   "outputs": [
    {
     "name": "stdout",
     "output_type": "stream",
     "text": [
      "1\n",
      "2\n",
      "3\n"
     ]
    }
   ],
   "source": [
    "x = [1, 2, 3]\n",
    "for a in x:\n",
    "    print(a)"
   ]
  },
  {
   "cell_type": "code",
   "execution_count": 19,
   "id": "f5b007de",
   "metadata": {},
   "outputs": [
    {
     "name": "stdout",
     "output_type": "stream",
     "text": [
      "5\n",
      "Blastoff!\n",
      "4\n",
      "Blastoff!\n",
      "3\n",
      "Blastoff!\n",
      "2\n",
      "Blastoff!\n",
      "1\n",
      "Blastoff!\n"
     ]
    }
   ],
   "source": [
    "# range(start, stop, step)\n",
    "for x in range(5, 0, -1):\n",
    "    print(x)\n",
    "    print(\"Blastoff!\")"
   ]
  },
  {
   "cell_type": "code",
   "execution_count": 28,
   "id": "47adcfb7",
   "metadata": {},
   "outputs": [
    {
     "name": "stdout",
     "output_type": "stream",
     "text": [
      "sum of first 10 squares is  1\n",
      "sum of first 10 squares is  5\n",
      "sum of first 10 squares is  14\n",
      "sum of first 10 squares is  30\n",
      "sum of first 10 squares is  55\n",
      "sum of first 10 squares is  91\n",
      "sum of first 10 squares is  140\n",
      "sum of first 10 squares is  204\n",
      "sum of first 10 squares is  285\n",
      "sum of first 10 squares is  385\n",
      "\n",
      "\n",
      "sum of first 10 squares is  385\n"
     ]
    }
   ],
   "source": [
    "sum = 0\n",
    "for i in range(1, 11): \n",
    "    sum = sum + (i * i)\n",
    "    print(\"sum of first 10 squares is \", sum)\n",
    "    \n",
    "print(\"\\n\")\n",
    "print(\"sum of first 10 squares is \", sum)"
   ]
  },
  {
   "cell_type": "code",
   "execution_count": 35,
   "id": "d72cda63",
   "metadata": {},
   "outputs": [
    {
     "name": "stdout",
     "output_type": "stream",
     "text": [
      "1 True\n",
      "2 True\n",
      "4 True\n",
      "8 True\n",
      "16 True\n",
      "32 True\n",
      "64 True\n",
      "128 True\n"
     ]
    }
   ],
   "source": [
    "number = 1\n",
    "while number < 200:\n",
    "    print(number,  \"True\")\n",
    "    number = number * 2"
   ]
  },
  {
   "cell_type": "code",
   "execution_count": 44,
   "id": "65ad12c5",
   "metadata": {},
   "outputs": [
    {
     "name": "stdout",
     "output_type": "stream",
     "text": [
      "x is 2\n"
     ]
    }
   ],
   "source": [
    "x = 2\n",
    "if x == 1:\n",
    "  print(\"x is 1\")\n",
    "elif x == 2:\n",
    "  print(\"x is 2\")\n",
    "else:\n",
    "  print(\"x is not 1 or 2\")"
   ]
  },
  {
   "cell_type": "code",
   "execution_count": 42,
   "id": "8ec8be4d",
   "metadata": {},
   "outputs": [
    {
     "name": "stdout",
     "output_type": "stream",
     "text": [
      "Who are you? jim\n"
     ]
    },
    {
     "data": {
      "text/plain": [
       "'jim'"
      ]
     },
     "execution_count": 42,
     "metadata": {},
     "output_type": "execute_result"
    }
   ],
   "source": [
    "name = input(\"Who are you? \")\n",
    "\n",
    "name"
   ]
  },
  {
   "cell_type": "code",
   "execution_count": 43,
   "id": "af1d3a11",
   "metadata": {},
   "outputs": [
    {
     "name": "stdout",
     "output_type": "stream",
     "text": [
      "Who are you? jim\n",
      "jim ... good name\n"
     ]
    }
   ],
   "source": [
    "name = input(\"Who are you? \")\n",
    "\n",
    "print(name, \"... good name\")"
   ]
  },
  {
   "cell_type": "code",
   "execution_count": 49,
   "id": "7026a8b0",
   "metadata": {},
   "outputs": [
    {
     "name": "stdout",
     "output_type": "stream",
     "text": [
      "x is 1\n",
      "x is 2\n",
      "x is not 1 or 2\n",
      "x is not 1 or 2\n",
      "x is not 1 or 2\n",
      "x is not 1 or 2\n",
      "x is not 1 or 2\n",
      "x is not 1 or 2\n"
     ]
    }
   ],
   "source": [
    "x = 1\n",
    "while x < 200:\n",
    "    \n",
    "    if x == 1:\n",
    "        print(\"x is 1\")\n",
    "    elif x == 2:\n",
    "        print(\"x is 2\")\n",
    "    else:\n",
    "        print(\"x is not 1 or 2\")\n",
    "    x = x * 2\n",
    "    "
   ]
  },
  {
   "cell_type": "code",
   "execution_count": 50,
   "id": "5938de23",
   "metadata": {},
   "outputs": [
    {
     "name": "stdout",
     "output_type": "stream",
     "text": [
      "Your application is accepted.\n"
     ]
    }
   ],
   "source": [
    "gpa = 3.4\n",
    "if gpa > 2.0:\n",
    "          print(\"Your application is accepted.\")"
   ]
  },
  {
   "cell_type": "code",
   "execution_count": 51,
   "id": "332b1f39",
   "metadata": {},
   "outputs": [],
   "source": [
    "# not False => True"
   ]
  },
  {
   "cell_type": "code",
   "execution_count": null,
   "id": "a3c14551",
   "metadata": {},
   "outputs": [],
   "source": []
  }
 ],
 "metadata": {
  "kernelspec": {
   "display_name": "Python 3 (ipykernel)",
   "language": "python",
   "name": "python3"
  },
  "language_info": {
   "codemirror_mode": {
    "name": "ipython",
    "version": 3
   },
   "file_extension": ".py",
   "mimetype": "text/x-python",
   "name": "python",
   "nbconvert_exporter": "python",
   "pygments_lexer": "ipython3",
   "version": "3.9.7"
  }
 },
 "nbformat": 4,
 "nbformat_minor": 5
}
